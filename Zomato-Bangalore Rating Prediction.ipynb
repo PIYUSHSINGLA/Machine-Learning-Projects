{
 "cells": [
  {
   "cell_type": "markdown",
   "metadata": {},
   "source": [
    "## ___ZOMATO DATA STUDY & PREDICTIONS___"
   ]
  },
  {
   "cell_type": "markdown",
   "metadata": {},
   "source": [
    "Dataset Link: [Kaggle](https://www.kaggle.com/himanshupoddar/zomato-bangalore-restaurants)"
   ]
  },
  {
   "cell_type": "markdown",
   "metadata": {},
   "source": [
    "### ___Importing Libraries___"
   ]
  },
  {
   "cell_type": "code",
   "execution_count": 1,
   "metadata": {},
   "outputs": [],
   "source": [
    "# importing Libraries\n",
    "import numpy as np \n",
    "import pandas as pd\n",
    "import matplotlib.pyplot as plt\n",
    "import seaborn as sns\n",
    "\n",
    "import warnings\n",
    "warnings.filterwarnings('ignore')"
   ]
  },
  {
   "cell_type": "markdown",
   "metadata": {},
   "source": [
    "### ___Reading the Data___"
   ]
  },
  {
   "cell_type": "code",
   "execution_count": 2,
   "metadata": {},
   "outputs": [
    {
     "data": {
      "text/html": [
       "<div>\n",
       "<style scoped>\n",
       "    .dataframe tbody tr th:only-of-type {\n",
       "        vertical-align: middle;\n",
       "    }\n",
       "\n",
       "    .dataframe tbody tr th {\n",
       "        vertical-align: top;\n",
       "    }\n",
       "\n",
       "    .dataframe thead th {\n",
       "        text-align: right;\n",
       "    }\n",
       "</style>\n",
       "<table border=\"1\" class=\"dataframe\">\n",
       "  <thead>\n",
       "    <tr style=\"text-align: right;\">\n",
       "      <th></th>\n",
       "      <th>url</th>\n",
       "      <th>address</th>\n",
       "      <th>name</th>\n",
       "      <th>online_order</th>\n",
       "      <th>book_table</th>\n",
       "      <th>rate</th>\n",
       "      <th>votes</th>\n",
       "      <th>phone</th>\n",
       "      <th>location</th>\n",
       "      <th>rest_type</th>\n",
       "      <th>dish_liked</th>\n",
       "      <th>cuisines</th>\n",
       "      <th>approx_cost(for two people)</th>\n",
       "      <th>reviews_list</th>\n",
       "      <th>menu_item</th>\n",
       "      <th>listed_in(type)</th>\n",
       "      <th>listed_in(city)</th>\n",
       "    </tr>\n",
       "  </thead>\n",
       "  <tbody>\n",
       "    <tr>\n",
       "      <th>0</th>\n",
       "      <td>https://www.zomato.com/bangalore/jalsa-banasha...</td>\n",
       "      <td>942, 21st Main Road, 2nd Stage, Banashankari, ...</td>\n",
       "      <td>Jalsa</td>\n",
       "      <td>Yes</td>\n",
       "      <td>Yes</td>\n",
       "      <td>4.1/5</td>\n",
       "      <td>775</td>\n",
       "      <td>080 42297555\\r\\n+91 9743772233</td>\n",
       "      <td>Banashankari</td>\n",
       "      <td>Casual Dining</td>\n",
       "      <td>Pasta, Lunch Buffet, Masala Papad, Paneer Laja...</td>\n",
       "      <td>North Indian, Mughlai, Chinese</td>\n",
       "      <td>800</td>\n",
       "      <td>[('Rated 4.0', 'RATED\\n  A beautiful place to ...</td>\n",
       "      <td>[]</td>\n",
       "      <td>Buffet</td>\n",
       "      <td>Banashankari</td>\n",
       "    </tr>\n",
       "    <tr>\n",
       "      <th>1</th>\n",
       "      <td>https://www.zomato.com/bangalore/spice-elephan...</td>\n",
       "      <td>2nd Floor, 80 Feet Road, Near Big Bazaar, 6th ...</td>\n",
       "      <td>Spice Elephant</td>\n",
       "      <td>Yes</td>\n",
       "      <td>No</td>\n",
       "      <td>4.1/5</td>\n",
       "      <td>787</td>\n",
       "      <td>080 41714161</td>\n",
       "      <td>Banashankari</td>\n",
       "      <td>Casual Dining</td>\n",
       "      <td>Momos, Lunch Buffet, Chocolate Nirvana, Thai G...</td>\n",
       "      <td>Chinese, North Indian, Thai</td>\n",
       "      <td>800</td>\n",
       "      <td>[('Rated 4.0', 'RATED\\n  Had been here for din...</td>\n",
       "      <td>[]</td>\n",
       "      <td>Buffet</td>\n",
       "      <td>Banashankari</td>\n",
       "    </tr>\n",
       "    <tr>\n",
       "      <th>2</th>\n",
       "      <td>https://www.zomato.com/SanchurroBangalore?cont...</td>\n",
       "      <td>1112, Next to KIMS Medical College, 17th Cross...</td>\n",
       "      <td>San Churro Cafe</td>\n",
       "      <td>Yes</td>\n",
       "      <td>No</td>\n",
       "      <td>3.8/5</td>\n",
       "      <td>918</td>\n",
       "      <td>+91 9663487993</td>\n",
       "      <td>Banashankari</td>\n",
       "      <td>Cafe, Casual Dining</td>\n",
       "      <td>Churros, Cannelloni, Minestrone Soup, Hot Choc...</td>\n",
       "      <td>Cafe, Mexican, Italian</td>\n",
       "      <td>800</td>\n",
       "      <td>[('Rated 3.0', \"RATED\\n  Ambience is not that ...</td>\n",
       "      <td>[]</td>\n",
       "      <td>Buffet</td>\n",
       "      <td>Banashankari</td>\n",
       "    </tr>\n",
       "    <tr>\n",
       "      <th>3</th>\n",
       "      <td>https://www.zomato.com/bangalore/addhuri-udupi...</td>\n",
       "      <td>1st Floor, Annakuteera, 3rd Stage, Banashankar...</td>\n",
       "      <td>Addhuri Udupi Bhojana</td>\n",
       "      <td>No</td>\n",
       "      <td>No</td>\n",
       "      <td>3.7/5</td>\n",
       "      <td>88</td>\n",
       "      <td>+91 9620009302</td>\n",
       "      <td>Banashankari</td>\n",
       "      <td>Quick Bites</td>\n",
       "      <td>Masala Dosa</td>\n",
       "      <td>South Indian, North Indian</td>\n",
       "      <td>300</td>\n",
       "      <td>[('Rated 4.0', \"RATED\\n  Great food and proper...</td>\n",
       "      <td>[]</td>\n",
       "      <td>Buffet</td>\n",
       "      <td>Banashankari</td>\n",
       "    </tr>\n",
       "    <tr>\n",
       "      <th>4</th>\n",
       "      <td>https://www.zomato.com/bangalore/grand-village...</td>\n",
       "      <td>10, 3rd Floor, Lakshmi Associates, Gandhi Baza...</td>\n",
       "      <td>Grand Village</td>\n",
       "      <td>No</td>\n",
       "      <td>No</td>\n",
       "      <td>3.8/5</td>\n",
       "      <td>166</td>\n",
       "      <td>+91 8026612447\\r\\n+91 9901210005</td>\n",
       "      <td>Basavanagudi</td>\n",
       "      <td>Casual Dining</td>\n",
       "      <td>Panipuri, Gol Gappe</td>\n",
       "      <td>North Indian, Rajasthani</td>\n",
       "      <td>600</td>\n",
       "      <td>[('Rated 4.0', 'RATED\\n  Very good restaurant ...</td>\n",
       "      <td>[]</td>\n",
       "      <td>Buffet</td>\n",
       "      <td>Banashankari</td>\n",
       "    </tr>\n",
       "  </tbody>\n",
       "</table>\n",
       "</div>"
      ],
      "text/plain": [
       "                                                 url  \\\n",
       "0  https://www.zomato.com/bangalore/jalsa-banasha...   \n",
       "1  https://www.zomato.com/bangalore/spice-elephan...   \n",
       "2  https://www.zomato.com/SanchurroBangalore?cont...   \n",
       "3  https://www.zomato.com/bangalore/addhuri-udupi...   \n",
       "4  https://www.zomato.com/bangalore/grand-village...   \n",
       "\n",
       "                                             address                   name  \\\n",
       "0  942, 21st Main Road, 2nd Stage, Banashankari, ...                  Jalsa   \n",
       "1  2nd Floor, 80 Feet Road, Near Big Bazaar, 6th ...         Spice Elephant   \n",
       "2  1112, Next to KIMS Medical College, 17th Cross...        San Churro Cafe   \n",
       "3  1st Floor, Annakuteera, 3rd Stage, Banashankar...  Addhuri Udupi Bhojana   \n",
       "4  10, 3rd Floor, Lakshmi Associates, Gandhi Baza...          Grand Village   \n",
       "\n",
       "  online_order book_table   rate  votes                             phone  \\\n",
       "0          Yes        Yes  4.1/5    775    080 42297555\\r\\n+91 9743772233   \n",
       "1          Yes         No  4.1/5    787                      080 41714161   \n",
       "2          Yes         No  3.8/5    918                    +91 9663487993   \n",
       "3           No         No  3.7/5     88                    +91 9620009302   \n",
       "4           No         No  3.8/5    166  +91 8026612447\\r\\n+91 9901210005   \n",
       "\n",
       "       location            rest_type  \\\n",
       "0  Banashankari        Casual Dining   \n",
       "1  Banashankari        Casual Dining   \n",
       "2  Banashankari  Cafe, Casual Dining   \n",
       "3  Banashankari          Quick Bites   \n",
       "4  Basavanagudi        Casual Dining   \n",
       "\n",
       "                                          dish_liked  \\\n",
       "0  Pasta, Lunch Buffet, Masala Papad, Paneer Laja...   \n",
       "1  Momos, Lunch Buffet, Chocolate Nirvana, Thai G...   \n",
       "2  Churros, Cannelloni, Minestrone Soup, Hot Choc...   \n",
       "3                                        Masala Dosa   \n",
       "4                                Panipuri, Gol Gappe   \n",
       "\n",
       "                         cuisines approx_cost(for two people)  \\\n",
       "0  North Indian, Mughlai, Chinese                         800   \n",
       "1     Chinese, North Indian, Thai                         800   \n",
       "2          Cafe, Mexican, Italian                         800   \n",
       "3      South Indian, North Indian                         300   \n",
       "4        North Indian, Rajasthani                         600   \n",
       "\n",
       "                                        reviews_list menu_item  \\\n",
       "0  [('Rated 4.0', 'RATED\\n  A beautiful place to ...        []   \n",
       "1  [('Rated 4.0', 'RATED\\n  Had been here for din...        []   \n",
       "2  [('Rated 3.0', \"RATED\\n  Ambience is not that ...        []   \n",
       "3  [('Rated 4.0', \"RATED\\n  Great food and proper...        []   \n",
       "4  [('Rated 4.0', 'RATED\\n  Very good restaurant ...        []   \n",
       "\n",
       "  listed_in(type) listed_in(city)  \n",
       "0          Buffet    Banashankari  \n",
       "1          Buffet    Banashankari  \n",
       "2          Buffet    Banashankari  \n",
       "3          Buffet    Banashankari  \n",
       "4          Buffet    Banashankari  "
      ]
     },
     "execution_count": 2,
     "metadata": {},
     "output_type": "execute_result"
    }
   ],
   "source": [
    "# reading the dataset\n",
    "zomato=pd.read_csv(r\"C:\\Users\\PiyushSin\\Downloads\\zomato.csv\")\n",
    "zomato.head() "
   ]
  },
  {
   "cell_type": "code",
   "execution_count": 3,
   "metadata": {},
   "outputs": [
    {
     "name": "stdout",
     "output_type": "stream",
     "text": [
      "<class 'pandas.core.frame.DataFrame'>\n",
      "RangeIndex: 51717 entries, 0 to 51716\n",
      "Data columns (total 17 columns):\n",
      "url                            51717 non-null object\n",
      "address                        51717 non-null object\n",
      "name                           51717 non-null object\n",
      "online_order                   51717 non-null object\n",
      "book_table                     51717 non-null object\n",
      "rate                           43942 non-null object\n",
      "votes                          51717 non-null int64\n",
      "phone                          50509 non-null object\n",
      "location                       51696 non-null object\n",
      "rest_type                      51490 non-null object\n",
      "dish_liked                     23639 non-null object\n",
      "cuisines                       51672 non-null object\n",
      "approx_cost(for two people)    51371 non-null object\n",
      "reviews_list                   51717 non-null object\n",
      "menu_item                      51717 non-null object\n",
      "listed_in(type)                51717 non-null object\n",
      "listed_in(city)                51717 non-null object\n",
      "dtypes: int64(1), object(16)\n",
      "memory usage: 6.7+ MB\n"
     ]
    }
   ],
   "source": [
    "zomato.info() # getting info about data set "
   ]
  },
  {
   "cell_type": "code",
   "execution_count": 4,
   "metadata": {},
   "outputs": [
    {
     "data": {
      "text/plain": [
       "(51717, 17)"
      ]
     },
     "execution_count": 4,
     "metadata": {},
     "output_type": "execute_result"
    }
   ],
   "source": [
    "zomato.shape # 51717 rows and 17 columns"
   ]
  },
  {
   "cell_type": "code",
   "execution_count": 5,
   "metadata": {},
   "outputs": [
    {
     "data": {
      "text/plain": [
       "Index(['url', 'address', 'name', 'online_order', 'book_table', 'rate', 'votes',\n",
       "       'phone', 'location', 'rest_type', 'dish_liked', 'cuisines',\n",
       "       'approx_cost(for two people)', 'reviews_list', 'menu_item',\n",
       "       'listed_in(type)', 'listed_in(city)'],\n",
       "      dtype='object')"
      ]
     },
     "execution_count": 5,
     "metadata": {},
     "output_type": "execute_result"
    }
   ],
   "source": [
    "zomato.columns # Column List "
   ]
  },
  {
   "cell_type": "markdown",
   "metadata": {},
   "source": [
    "### ___Data Cleaning___"
   ]
  },
  {
   "cell_type": "code",
   "execution_count": 6,
   "metadata": {},
   "outputs": [],
   "source": [
    "# dropping columns like URL, dish_liked, and Phone (sensitive)\n",
    "zomato.drop(columns = ['url','phone','dish_liked'], inplace = True) "
   ]
  },
  {
   "cell_type": "code",
   "execution_count": 7,
   "metadata": {},
   "outputs": [
    {
     "data": {
      "text/plain": [
       "43"
      ]
     },
     "execution_count": 7,
     "metadata": {},
     "output_type": "execute_result"
    }
   ],
   "source": [
    "# checking for duplicates\n",
    "zomato.duplicated().sum()\n",
    "# 43 Restuarants are duplicates"
   ]
  },
  {
   "cell_type": "code",
   "execution_count": 8,
   "metadata": {},
   "outputs": [
    {
     "data": {
      "text/html": [
       "<div>\n",
       "<style scoped>\n",
       "    .dataframe tbody tr th:only-of-type {\n",
       "        vertical-align: middle;\n",
       "    }\n",
       "\n",
       "    .dataframe tbody tr th {\n",
       "        vertical-align: top;\n",
       "    }\n",
       "\n",
       "    .dataframe thead th {\n",
       "        text-align: right;\n",
       "    }\n",
       "</style>\n",
       "<table border=\"1\" class=\"dataframe\">\n",
       "  <thead>\n",
       "    <tr style=\"text-align: right;\">\n",
       "      <th></th>\n",
       "      <th>address</th>\n",
       "      <th>name</th>\n",
       "      <th>online_order</th>\n",
       "      <th>book_table</th>\n",
       "      <th>rate</th>\n",
       "      <th>votes</th>\n",
       "      <th>location</th>\n",
       "      <th>rest_type</th>\n",
       "      <th>cuisines</th>\n",
       "      <th>approx_cost(for two people)</th>\n",
       "      <th>reviews_list</th>\n",
       "      <th>menu_item</th>\n",
       "      <th>listed_in(type)</th>\n",
       "      <th>listed_in(city)</th>\n",
       "    </tr>\n",
       "  </thead>\n",
       "  <tbody>\n",
       "    <tr>\n",
       "      <th>0</th>\n",
       "      <td>942, 21st Main Road, 2nd Stage, Banashankari, ...</td>\n",
       "      <td>Jalsa</td>\n",
       "      <td>Yes</td>\n",
       "      <td>Yes</td>\n",
       "      <td>4.1/5</td>\n",
       "      <td>775</td>\n",
       "      <td>Banashankari</td>\n",
       "      <td>Casual Dining</td>\n",
       "      <td>North Indian, Mughlai, Chinese</td>\n",
       "      <td>800</td>\n",
       "      <td>[('Rated 4.0', 'RATED\\n  A beautiful place to ...</td>\n",
       "      <td>[]</td>\n",
       "      <td>Buffet</td>\n",
       "      <td>Banashankari</td>\n",
       "    </tr>\n",
       "    <tr>\n",
       "      <th>1</th>\n",
       "      <td>2nd Floor, 80 Feet Road, Near Big Bazaar, 6th ...</td>\n",
       "      <td>Spice Elephant</td>\n",
       "      <td>Yes</td>\n",
       "      <td>No</td>\n",
       "      <td>4.1/5</td>\n",
       "      <td>787</td>\n",
       "      <td>Banashankari</td>\n",
       "      <td>Casual Dining</td>\n",
       "      <td>Chinese, North Indian, Thai</td>\n",
       "      <td>800</td>\n",
       "      <td>[('Rated 4.0', 'RATED\\n  Had been here for din...</td>\n",
       "      <td>[]</td>\n",
       "      <td>Buffet</td>\n",
       "      <td>Banashankari</td>\n",
       "    </tr>\n",
       "    <tr>\n",
       "      <th>2</th>\n",
       "      <td>1112, Next to KIMS Medical College, 17th Cross...</td>\n",
       "      <td>San Churro Cafe</td>\n",
       "      <td>Yes</td>\n",
       "      <td>No</td>\n",
       "      <td>3.8/5</td>\n",
       "      <td>918</td>\n",
       "      <td>Banashankari</td>\n",
       "      <td>Cafe, Casual Dining</td>\n",
       "      <td>Cafe, Mexican, Italian</td>\n",
       "      <td>800</td>\n",
       "      <td>[('Rated 3.0', \"RATED\\n  Ambience is not that ...</td>\n",
       "      <td>[]</td>\n",
       "      <td>Buffet</td>\n",
       "      <td>Banashankari</td>\n",
       "    </tr>\n",
       "    <tr>\n",
       "      <th>3</th>\n",
       "      <td>1st Floor, Annakuteera, 3rd Stage, Banashankar...</td>\n",
       "      <td>Addhuri Udupi Bhojana</td>\n",
       "      <td>No</td>\n",
       "      <td>No</td>\n",
       "      <td>3.7/5</td>\n",
       "      <td>88</td>\n",
       "      <td>Banashankari</td>\n",
       "      <td>Quick Bites</td>\n",
       "      <td>South Indian, North Indian</td>\n",
       "      <td>300</td>\n",
       "      <td>[('Rated 4.0', \"RATED\\n  Great food and proper...</td>\n",
       "      <td>[]</td>\n",
       "      <td>Buffet</td>\n",
       "      <td>Banashankari</td>\n",
       "    </tr>\n",
       "    <tr>\n",
       "      <th>4</th>\n",
       "      <td>10, 3rd Floor, Lakshmi Associates, Gandhi Baza...</td>\n",
       "      <td>Grand Village</td>\n",
       "      <td>No</td>\n",
       "      <td>No</td>\n",
       "      <td>3.8/5</td>\n",
       "      <td>166</td>\n",
       "      <td>Basavanagudi</td>\n",
       "      <td>Casual Dining</td>\n",
       "      <td>North Indian, Rajasthani</td>\n",
       "      <td>600</td>\n",
       "      <td>[('Rated 4.0', 'RATED\\n  Very good restaurant ...</td>\n",
       "      <td>[]</td>\n",
       "      <td>Buffet</td>\n",
       "      <td>Banashankari</td>\n",
       "    </tr>\n",
       "  </tbody>\n",
       "</table>\n",
       "</div>"
      ],
      "text/plain": [
       "                                             address                   name  \\\n",
       "0  942, 21st Main Road, 2nd Stage, Banashankari, ...                  Jalsa   \n",
       "1  2nd Floor, 80 Feet Road, Near Big Bazaar, 6th ...         Spice Elephant   \n",
       "2  1112, Next to KIMS Medical College, 17th Cross...        San Churro Cafe   \n",
       "3  1st Floor, Annakuteera, 3rd Stage, Banashankar...  Addhuri Udupi Bhojana   \n",
       "4  10, 3rd Floor, Lakshmi Associates, Gandhi Baza...          Grand Village   \n",
       "\n",
       "  online_order book_table   rate  votes      location            rest_type  \\\n",
       "0          Yes        Yes  4.1/5    775  Banashankari        Casual Dining   \n",
       "1          Yes         No  4.1/5    787  Banashankari        Casual Dining   \n",
       "2          Yes         No  3.8/5    918  Banashankari  Cafe, Casual Dining   \n",
       "3           No         No  3.7/5     88  Banashankari          Quick Bites   \n",
       "4           No         No  3.8/5    166  Basavanagudi        Casual Dining   \n",
       "\n",
       "                         cuisines approx_cost(for two people)  \\\n",
       "0  North Indian, Mughlai, Chinese                         800   \n",
       "1     Chinese, North Indian, Thai                         800   \n",
       "2          Cafe, Mexican, Italian                         800   \n",
       "3      South Indian, North Indian                         300   \n",
       "4        North Indian, Rajasthani                         600   \n",
       "\n",
       "                                        reviews_list menu_item  \\\n",
       "0  [('Rated 4.0', 'RATED\\n  A beautiful place to ...        []   \n",
       "1  [('Rated 4.0', 'RATED\\n  Had been here for din...        []   \n",
       "2  [('Rated 3.0', \"RATED\\n  Ambience is not that ...        []   \n",
       "3  [('Rated 4.0', \"RATED\\n  Great food and proper...        []   \n",
       "4  [('Rated 4.0', 'RATED\\n  Very good restaurant ...        []   \n",
       "\n",
       "  listed_in(type) listed_in(city)  \n",
       "0          Buffet    Banashankari  \n",
       "1          Buffet    Banashankari  \n",
       "2          Buffet    Banashankari  \n",
       "3          Buffet    Banashankari  \n",
       "4          Buffet    Banashankari  "
      ]
     },
     "execution_count": 8,
     "metadata": {},
     "output_type": "execute_result"
    }
   ],
   "source": [
    "# removing duplicates\n",
    "zomato.drop_duplicates(inplace=True)\n",
    "zomato.head() "
   ]
  },
  {
   "cell_type": "code",
   "execution_count": 9,
   "metadata": {},
   "outputs": [
    {
     "data": {
      "text/plain": [
       "address                           0\n",
       "name                              0\n",
       "online_order                      0\n",
       "book_table                        0\n",
       "rate                           7767\n",
       "votes                             0\n",
       "location                         21\n",
       "rest_type                       227\n",
       "cuisines                         45\n",
       "approx_cost(for two people)     345\n",
       "reviews_list                      0\n",
       "menu_item                         0\n",
       "listed_in(type)                   0\n",
       "listed_in(city)                   0\n",
       "dtype: int64"
      ]
     },
     "execution_count": 9,
     "metadata": {},
     "output_type": "execute_result"
    }
   ],
   "source": [
    "# Searching for NAs\n",
    "zomato.isnull().sum()"
   ]
  },
  {
   "cell_type": "code",
   "execution_count": 10,
   "metadata": {},
   "outputs": [],
   "source": [
    "# removing any NA\n",
    "zomato.dropna(how='any',inplace=True)"
   ]
  },
  {
   "cell_type": "markdown",
   "metadata": {},
   "source": [
    "### ___Data Transformation___"
   ]
  },
  {
   "cell_type": "code",
   "execution_count": 11,
   "metadata": {},
   "outputs": [
    {
     "data": {
      "text/plain": [
       "array(['4.1/5', '3.8/5', '3.7/5', '3.6/5', '4.6/5', '4.0/5', '4.2/5',\n",
       "       '3.9/5', '3.1/5', '3.0/5', '3.2/5', '3.3/5', '2.8/5', '4.4/5',\n",
       "       '4.3/5', 'NEW', '2.9/5', '3.5/5', '2.6/5', '3.8 /5', '3.4/5',\n",
       "       '4.5/5', '2.5/5', '2.7/5', '4.7/5', '2.4/5', '2.2/5', '2.3/5',\n",
       "       '3.4 /5', '-', '3.6 /5', '4.8/5', '3.9 /5', '4.2 /5', '4.0 /5',\n",
       "       '4.1 /5', '3.7 /5', '3.1 /5', '2.9 /5', '3.3 /5', '2.8 /5',\n",
       "       '3.5 /5', '2.7 /5', '2.5 /5', '3.2 /5', '2.6 /5', '4.5 /5',\n",
       "       '4.3 /5', '4.4 /5', '4.9/5', '2.1/5', '2.0/5', '1.8/5', '4.6 /5',\n",
       "       '4.9 /5', '3.0 /5', '4.8 /5', '2.3 /5', '4.7 /5', '2.4 /5',\n",
       "       '2.1 /5', '2.2 /5', '2.0 /5', '1.8 /5'], dtype=object)"
      ]
     },
     "execution_count": 11,
     "metadata": {},
     "output_type": "execute_result"
    }
   ],
   "source": [
    "#Reading uninque values from the Rate column\n",
    "zomato['rate'].unique()"
   ]
  },
  {
   "cell_type": "code",
   "execution_count": 12,
   "metadata": {},
   "outputs": [],
   "source": [
    "# removing NEW, -\n",
    "zomato = zomato.loc[zomato.rate !='NEW']\n",
    "zomato = zomato.loc[zomato.rate !='-']"
   ]
  },
  {
   "cell_type": "code",
   "execution_count": 13,
   "metadata": {},
   "outputs": [
    {
     "data": {
      "text/plain": [
       "(41237, 14)"
      ]
     },
     "execution_count": 13,
     "metadata": {},
     "output_type": "execute_result"
    }
   ],
   "source": [
    "zomato.shape # new shape of the data"
   ]
  },
  {
   "cell_type": "code",
   "execution_count": 14,
   "metadata": {},
   "outputs": [],
   "source": [
    "# Simplifying Ratings \n",
    "remove_slash = lambda x: x.replace('/5', '')\n",
    "zomato.rate = zomato.rate.apply(remove_slash)"
   ]
  },
  {
   "cell_type": "code",
   "execution_count": 15,
   "metadata": {},
   "outputs": [
    {
     "data": {
      "text/plain": [
       "array(['4.1', '3.8', '3.7', '3.6', '4.6', '4.0', '4.2', '3.9', '3.1',\n",
       "       '3.0', '3.2', '3.3', '2.8', '4.4', '4.3', '2.9', '3.5', '2.6',\n",
       "       '3.8 ', '3.4', '4.5', '2.5', '2.7', '4.7', '2.4', '2.2', '2.3',\n",
       "       '3.4 ', '3.6 ', '4.8', '3.9 ', '4.2 ', '4.0 ', '4.1 ', '3.7 ',\n",
       "       '3.1 ', '2.9 ', '3.3 ', '2.8 ', '3.5 ', '2.7 ', '2.5 ', '3.2 ',\n",
       "       '2.6 ', '4.5 ', '4.3 ', '4.4 ', '4.9', '2.1', '2.0', '1.8', '4.6 ',\n",
       "       '4.9 ', '3.0 ', '4.8 ', '2.3 ', '4.7 ', '2.4 ', '2.1 ', '2.2 ',\n",
       "       '2.0 ', '1.8 '], dtype=object)"
      ]
     },
     "execution_count": 15,
     "metadata": {},
     "output_type": "execute_result"
    }
   ],
   "source": [
    "zomato['rate'].unique()"
   ]
  },
  {
   "cell_type": "code",
   "execution_count": 16,
   "metadata": {},
   "outputs": [],
   "source": [
    "zomato.rate = zomato.rate.str.strip().astype('float')"
   ]
  },
  {
   "cell_type": "code",
   "execution_count": 17,
   "metadata": {},
   "outputs": [
    {
     "data": {
      "text/plain": [
       "array([4.1, 3.8, 3.7, 3.6, 4.6, 4. , 4.2, 3.9, 3.1, 3. , 3.2, 3.3, 2.8,\n",
       "       4.4, 4.3, 2.9, 3.5, 2.6, 3.4, 4.5, 2.5, 2.7, 4.7, 2.4, 2.2, 2.3,\n",
       "       4.8, 4.9, 2.1, 2. , 1.8])"
      ]
     },
     "execution_count": 17,
     "metadata": {},
     "output_type": "execute_result"
    }
   ],
   "source": [
    "zomato['rate'].unique()"
   ]
  },
  {
   "cell_type": "code",
   "execution_count": 18,
   "metadata": {},
   "outputs": [
    {
     "data": {
      "text/plain": [
       "Index(['address', 'name', 'online_order', 'book_table', 'rate', 'votes',\n",
       "       'location', 'rest_type', 'cuisines', 'approx_cost(for two people)',\n",
       "       'reviews_list', 'menu_item', 'listed_in(type)', 'listed_in(city)'],\n",
       "      dtype='object')"
      ]
     },
     "execution_count": 18,
     "metadata": {},
     "output_type": "execute_result"
    }
   ],
   "source": [
    "zomato.columns"
   ]
  },
  {
   "cell_type": "code",
   "execution_count": 19,
   "metadata": {},
   "outputs": [],
   "source": [
    "# Changing the column names\n",
    "zomato = zomato.rename(columns={'approx_cost(for two people)':'cost','listed_in(type)':'type',\n",
    "                                  'listed_in(city)':'city'})"
   ]
  },
  {
   "cell_type": "code",
   "execution_count": 20,
   "metadata": {},
   "outputs": [
    {
     "data": {
      "text/plain": [
       "array(['800', '300', '600', '700', '550', '500', '450', '650', '400',\n",
       "       '900', '200', '750', '150', '850', '100', '1,200', '350', '250',\n",
       "       '950', '1,000', '1,500', '1,300', '199', '1,100', '1,600', '230',\n",
       "       '130', '1,700', '1,350', '2,200', '1,400', '2,000', '1,800',\n",
       "       '1,900', '180', '330', '2,500', '2,100', '3,000', '2,800', '3,400',\n",
       "       '50', '40', '1,250', '3,500', '4,000', '2,400', '2,600', '1,450',\n",
       "       '70', '3,200', '240', '6,000', '1,050', '2,300', '4,100', '120',\n",
       "       '5,000', '3,700', '1,650', '2,700', '4,500', '80'], dtype=object)"
      ]
     },
     "execution_count": 20,
     "metadata": {},
     "output_type": "execute_result"
    }
   ],
   "source": [
    "zomato.cost.unique()"
   ]
  },
  {
   "cell_type": "code",
   "execution_count": 21,
   "metadata": {},
   "outputs": [],
   "source": [
    "# Transforming Features\n",
    "# 1. Correcting Names\n",
    "zomato.name = zomato.name.apply(lambda x:x.title())\n",
    "\n",
    "# 2. Boolean Columns \n",
    "zomato.online_order.replace(('Yes','No'),(True, False),inplace=True)\n",
    "zomato.book_table.replace(('Yes','No'),(True, False),inplace=True)\n",
    "\n",
    "# 3. Correcting Cost\n",
    "#Some Transformations\n",
    "zomato['cost'] = zomato['cost'].astype(str) #Changing the cost to string\n",
    "zomato['cost'] = zomato['cost'].apply(lambda x: x.replace(',','')) #Using lambda function to replace ',' from cost\n",
    "zomato['cost'] = zomato['cost'].astype(int) # Changing the cost to Float"
   ]
  },
  {
   "cell_type": "code",
   "execution_count": 22,
   "metadata": {},
   "outputs": [
    {
     "data": {
      "text/plain": [
       "array([ 800,  300,  600,  700,  550,  500,  450,  650,  400,  900,  200,\n",
       "        750,  150,  850,  100, 1200,  350,  250,  950, 1000, 1500, 1300,\n",
       "        199, 1100, 1600,  230,  130, 1700, 1350, 2200, 1400, 2000, 1800,\n",
       "       1900,  180,  330, 2500, 2100, 3000, 2800, 3400,   50,   40, 1250,\n",
       "       3500, 4000, 2400, 2600, 1450,   70, 3200,  240, 6000, 1050, 2300,\n",
       "       4100,  120, 5000, 3700, 1650, 2700, 4500,   80], dtype=int64)"
      ]
     },
     "execution_count": 22,
     "metadata": {},
     "output_type": "execute_result"
    }
   ],
   "source": [
    "zomato.cost.unique()"
   ]
  },
  {
   "cell_type": "markdown",
   "metadata": {},
   "source": [
    "### ___Final Data___"
   ]
  },
  {
   "cell_type": "code",
   "execution_count": 23,
   "metadata": {},
   "outputs": [
    {
     "data": {
      "text/html": [
       "<div>\n",
       "<style scoped>\n",
       "    .dataframe tbody tr th:only-of-type {\n",
       "        vertical-align: middle;\n",
       "    }\n",
       "\n",
       "    .dataframe tbody tr th {\n",
       "        vertical-align: top;\n",
       "    }\n",
       "\n",
       "    .dataframe thead th {\n",
       "        text-align: right;\n",
       "    }\n",
       "</style>\n",
       "<table border=\"1\" class=\"dataframe\">\n",
       "  <thead>\n",
       "    <tr style=\"text-align: right;\">\n",
       "      <th></th>\n",
       "      <th>address</th>\n",
       "      <th>name</th>\n",
       "      <th>online_order</th>\n",
       "      <th>book_table</th>\n",
       "      <th>rate</th>\n",
       "      <th>votes</th>\n",
       "      <th>location</th>\n",
       "      <th>rest_type</th>\n",
       "      <th>cuisines</th>\n",
       "      <th>cost</th>\n",
       "      <th>reviews_list</th>\n",
       "      <th>menu_item</th>\n",
       "      <th>type</th>\n",
       "      <th>city</th>\n",
       "    </tr>\n",
       "  </thead>\n",
       "  <tbody>\n",
       "    <tr>\n",
       "      <th>0</th>\n",
       "      <td>942, 21st Main Road, 2nd Stage, Banashankari, ...</td>\n",
       "      <td>Jalsa</td>\n",
       "      <td>True</td>\n",
       "      <td>True</td>\n",
       "      <td>4.1</td>\n",
       "      <td>775</td>\n",
       "      <td>Banashankari</td>\n",
       "      <td>Casual Dining</td>\n",
       "      <td>North Indian, Mughlai, Chinese</td>\n",
       "      <td>800</td>\n",
       "      <td>[('Rated 4.0', 'RATED\\n  A beautiful place to ...</td>\n",
       "      <td>[]</td>\n",
       "      <td>Buffet</td>\n",
       "      <td>Banashankari</td>\n",
       "    </tr>\n",
       "    <tr>\n",
       "      <th>1</th>\n",
       "      <td>2nd Floor, 80 Feet Road, Near Big Bazaar, 6th ...</td>\n",
       "      <td>Spice Elephant</td>\n",
       "      <td>True</td>\n",
       "      <td>False</td>\n",
       "      <td>4.1</td>\n",
       "      <td>787</td>\n",
       "      <td>Banashankari</td>\n",
       "      <td>Casual Dining</td>\n",
       "      <td>Chinese, North Indian, Thai</td>\n",
       "      <td>800</td>\n",
       "      <td>[('Rated 4.0', 'RATED\\n  Had been here for din...</td>\n",
       "      <td>[]</td>\n",
       "      <td>Buffet</td>\n",
       "      <td>Banashankari</td>\n",
       "    </tr>\n",
       "    <tr>\n",
       "      <th>2</th>\n",
       "      <td>1112, Next to KIMS Medical College, 17th Cross...</td>\n",
       "      <td>San Churro Cafe</td>\n",
       "      <td>True</td>\n",
       "      <td>False</td>\n",
       "      <td>3.8</td>\n",
       "      <td>918</td>\n",
       "      <td>Banashankari</td>\n",
       "      <td>Cafe, Casual Dining</td>\n",
       "      <td>Cafe, Mexican, Italian</td>\n",
       "      <td>800</td>\n",
       "      <td>[('Rated 3.0', \"RATED\\n  Ambience is not that ...</td>\n",
       "      <td>[]</td>\n",
       "      <td>Buffet</td>\n",
       "      <td>Banashankari</td>\n",
       "    </tr>\n",
       "    <tr>\n",
       "      <th>3</th>\n",
       "      <td>1st Floor, Annakuteera, 3rd Stage, Banashankar...</td>\n",
       "      <td>Addhuri Udupi Bhojana</td>\n",
       "      <td>False</td>\n",
       "      <td>False</td>\n",
       "      <td>3.7</td>\n",
       "      <td>88</td>\n",
       "      <td>Banashankari</td>\n",
       "      <td>Quick Bites</td>\n",
       "      <td>South Indian, North Indian</td>\n",
       "      <td>300</td>\n",
       "      <td>[('Rated 4.0', \"RATED\\n  Great food and proper...</td>\n",
       "      <td>[]</td>\n",
       "      <td>Buffet</td>\n",
       "      <td>Banashankari</td>\n",
       "    </tr>\n",
       "    <tr>\n",
       "      <th>4</th>\n",
       "      <td>10, 3rd Floor, Lakshmi Associates, Gandhi Baza...</td>\n",
       "      <td>Grand Village</td>\n",
       "      <td>False</td>\n",
       "      <td>False</td>\n",
       "      <td>3.8</td>\n",
       "      <td>166</td>\n",
       "      <td>Basavanagudi</td>\n",
       "      <td>Casual Dining</td>\n",
       "      <td>North Indian, Rajasthani</td>\n",
       "      <td>600</td>\n",
       "      <td>[('Rated 4.0', 'RATED\\n  Very good restaurant ...</td>\n",
       "      <td>[]</td>\n",
       "      <td>Buffet</td>\n",
       "      <td>Banashankari</td>\n",
       "    </tr>\n",
       "  </tbody>\n",
       "</table>\n",
       "</div>"
      ],
      "text/plain": [
       "                                             address                   name  \\\n",
       "0  942, 21st Main Road, 2nd Stage, Banashankari, ...                  Jalsa   \n",
       "1  2nd Floor, 80 Feet Road, Near Big Bazaar, 6th ...         Spice Elephant   \n",
       "2  1112, Next to KIMS Medical College, 17th Cross...        San Churro Cafe   \n",
       "3  1st Floor, Annakuteera, 3rd Stage, Banashankar...  Addhuri Udupi Bhojana   \n",
       "4  10, 3rd Floor, Lakshmi Associates, Gandhi Baza...          Grand Village   \n",
       "\n",
       "   online_order  book_table  rate  votes      location            rest_type  \\\n",
       "0          True        True   4.1    775  Banashankari        Casual Dining   \n",
       "1          True       False   4.1    787  Banashankari        Casual Dining   \n",
       "2          True       False   3.8    918  Banashankari  Cafe, Casual Dining   \n",
       "3         False       False   3.7     88  Banashankari          Quick Bites   \n",
       "4         False       False   3.8    166  Basavanagudi        Casual Dining   \n",
       "\n",
       "                         cuisines  cost  \\\n",
       "0  North Indian, Mughlai, Chinese   800   \n",
       "1     Chinese, North Indian, Thai   800   \n",
       "2          Cafe, Mexican, Italian   800   \n",
       "3      South Indian, North Indian   300   \n",
       "4        North Indian, Rajasthani   600   \n",
       "\n",
       "                                        reviews_list menu_item    type  \\\n",
       "0  [('Rated 4.0', 'RATED\\n  A beautiful place to ...        []  Buffet   \n",
       "1  [('Rated 4.0', 'RATED\\n  Had been here for din...        []  Buffet   \n",
       "2  [('Rated 3.0', \"RATED\\n  Ambience is not that ...        []  Buffet   \n",
       "3  [('Rated 4.0', \"RATED\\n  Great food and proper...        []  Buffet   \n",
       "4  [('Rated 4.0', 'RATED\\n  Very good restaurant ...        []  Buffet   \n",
       "\n",
       "           city  \n",
       "0  Banashankari  \n",
       "1  Banashankari  \n",
       "2  Banashankari  \n",
       "3  Banashankari  \n",
       "4  Banashankari  "
      ]
     },
     "execution_count": 23,
     "metadata": {},
     "output_type": "execute_result"
    }
   ],
   "source": [
    "zomato.head()"
   ]
  },
  {
   "cell_type": "markdown",
   "metadata": {},
   "source": [
    "### ___Visualizations___"
   ]
  },
  {
   "cell_type": "code",
   "execution_count": 24,
   "metadata": {},
   "outputs": [],
   "source": [
    "def countplot(x, data, hue, title, xlabel, ylabel, Lgfig = False):\n",
    "    if Lgfig is True:\n",
    "        plt.figure(figsize = (13,6))\n",
    "    else:\n",
    "        plt.figure(figsize = (5,4))\n",
    "    sns.countplot(x = x, data = data, hue = hue, palette= 'Set1')\n",
    "    plt.xticks(rotation= 90)\n",
    "    plt.ylabel(ylabel)\n",
    "    plt.xlabel(xlabel)\n",
    "    plt.title(title)"
   ]
  },
  {
   "cell_type": "code",
   "execution_count": 25,
   "metadata": {},
   "outputs": [
    {
     "data": {
      "image/png": "[encoded data removed]",
      "text/plain": [
       "<Figure size 360x288 with 1 Axes>"
      ]
     },
     "metadata": {
      "needs_background": "light"
     },
     "output_type": "display_data"
    }
   ],
   "source": [
    "countplot('online_order',zomato, None, 'Restaurants accepting Online Orders','online orders','count')"
   ]
  },
  {
   "cell_type": "code",
   "execution_count": 26,
   "metadata": {},
   "outputs": [
    {
     "data": {
      "image/png": "[encoded data removed]",
      "text/plain": [
       "<Figure size 360x288 with 1 Axes>"
      ]
     },
     "metadata": {
      "needs_background": "light"
     },
     "output_type": "display_data"
    }
   ],
   "source": [
    "countplot('book_table',zomato, None, 'Restaurants accepting Table bookings','Table Bookings','count')"
   ]
  },
  {
   "cell_type": "code",
   "execution_count": 27,
   "metadata": {},
   "outputs": [
    {
     "data": {
      "image/png": "[encoded data removed]",
      "text/plain": [
       "<Figure size 360x288 with 1 Axes>"
      ]
     },
     "metadata": {
      "needs_background": "light"
     },
     "output_type": "display_data"
    }
   ],
   "source": [
    "countplot('book_table',zomato, 'online_order', 'Restaurants accepting Table bookings and Online Orders','Table Bookings','count')"
   ]
  },
  {
   "cell_type": "code",
   "execution_count": 28,
   "metadata": {},
   "outputs": [
    {
     "data": {
      "image/png": "[encoded data removed]",
      "text/plain": [
       "<Figure size 936x432 with 1 Axes>"
      ]
     },
     "metadata": {
      "needs_background": "light"
     },
     "output_type": "display_data"
    }
   ],
   "source": [
    "countplot('type',zomato, None, 'Restaurants Type','Service Types','count', Lgfig = True)"
   ]
  },
  {
   "cell_type": "code",
   "execution_count": 29,
   "metadata": {},
   "outputs": [
    {
     "data": {
      "text/plain": [
       "Delivery              20431\n",
       "Dine-out              14062\n",
       "Desserts               2709\n",
       "Cafes                  1511\n",
       "Drinks & nightlife     1045\n",
       "Buffet                  847\n",
       "Pubs and bars           632\n",
       "Name: type, dtype: int64"
      ]
     },
     "execution_count": 29,
     "metadata": {},
     "output_type": "execute_result"
    }
   ],
   "source": [
    "zomato.type.value_counts()"
   ]
  },
  {
   "cell_type": "code",
   "execution_count": 30,
   "metadata": {},
   "outputs": [
    {
     "data": {
      "image/png": "[encoded data removed]",
      "text/plain": [
       "<Figure size 936x432 with 1 Axes>"
      ]
     },
     "metadata": {
      "needs_background": "light"
     },
     "output_type": "display_data"
    }
   ],
   "source": [
    "countplot('rate',zomato, None, 'Restaurants Ratings','Rating','count', Lgfig= True)"
   ]
  },
  {
   "cell_type": "code",
   "execution_count": 31,
   "metadata": {},
   "outputs": [
    {
     "data": {
      "image/png": "[encoded data removed]",
      "text/plain": [
       "<Figure size 936x432 with 1 Axes>"
      ]
     },
     "metadata": {
      "needs_background": "light"
     },
     "output_type": "display_data"
    }
   ],
   "source": [
    "countplot('city',zomato, None, 'City wise Restaurant Count','City','count', Lgfig= True)"
   ]
  },
  {
   "cell_type": "code",
   "execution_count": 32,
   "metadata": {},
   "outputs": [
    {
     "data": {
      "image/png": "[encoded data removed]",
      "text/plain": [
       "<Figure size 936x432 with 1 Axes>"
      ]
     },
     "metadata": {
      "needs_background": "light"
     },
     "output_type": "display_data"
    }
   ],
   "source": [
    "countplot('location',zomato, None, 'Location wise Restaurant Count','Location','count', Lgfig= True)"
   ]
  },
  {
   "cell_type": "code",
   "execution_count": 33,
   "metadata": {},
   "outputs": [
    {
     "data": {
      "image/png": "[encoded data removed]",
      "text/plain": [
       "<Figure size 432x288 with 1 Axes>"
      ]
     },
     "metadata": {
      "needs_background": "light"
     },
     "output_type": "display_data"
    }
   ],
   "source": [
    "zomato.city.value_counts().nlargest(10).plot(kind = \"barh\", color = sns.color_palette(\"Set1\"))\n",
    "plt.title(\"Number of restaurants listed in a particular location\")\n",
    "plt.xlabel(\"Count\")\n",
    "plt.show()"
   ]
  },
  {
   "cell_type": "code",
   "execution_count": 34,
   "metadata": {},
   "outputs": [
    {
     "data": {
      "image/png": "[encoded data removed]",
      "text/plain": [
       "<Figure size 432x288 with 1 Axes>"
      ]
     },
     "metadata": {
      "needs_background": "light"
     },
     "output_type": "display_data"
    }
   ],
   "source": [
    "ax = sns.barplot(x='rate', y='cost', data=zomato, palette='Set1')\n",
    "ax.set_title(\"Cost_for_two vs rating\")\n",
    "plt.show()"
   ]
  },
  {
   "cell_type": "code",
   "execution_count": 35,
   "metadata": {},
   "outputs": [
    {
     "data": {
      "text/plain": [
       "Text(0.5, 0, 'Rating')"
      ]
     },
     "execution_count": 35,
     "metadata": {},
     "output_type": "execute_result"
    },
    {
     "data": {
      "image/png": "[encoded data removed]",
      "text/plain": [
       "<Figure size 432x288 with 1 Axes>"
      ]
     },
     "metadata": {
      "needs_background": "light"
     },
     "output_type": "display_data"
    }
   ],
   "source": [
    "type_plt=pd.crosstab(zomato['rate'],zomato['type'])\n",
    "type_plt.plot(kind='bar',stacked=True, color = sns.color_palette(\"Set1\"));\n",
    "plt.title('Type - Rating',fontsize=15,fontweight='bold')\n",
    "plt.ylabel('Type')\n",
    "plt.xlabel('Rating')"
   ]
  },
  {
   "cell_type": "code",
   "execution_count": 36,
   "metadata": {},
   "outputs": [
    {
     "data": {
      "image/png": "[encoded data removed]",
      "text/plain": [
       "<Figure size 432x288 with 1 Axes>"
      ]
     },
     "metadata": {
      "needs_background": "light"
     },
     "output_type": "display_data"
    }
   ],
   "source": [
    "sns.boxplot(x=\"type\", y=\"rate\", data = zomato , palette='Set1')\n",
    "plt.show()"
   ]
  },
  {
   "cell_type": "code",
   "execution_count": 37,
   "metadata": {},
   "outputs": [
    {
     "name": "stderr",
     "output_type": "stream",
     "text": [
      "No handles with labels found to put in legend.\n"
     ]
    },
    {
     "data": {
      "image/png": "[encoded data removed]",
      "text/plain": [
       "<Figure size 432x288 with 1 Axes>"
      ]
     },
     "metadata": {
      "needs_background": "light"
     },
     "output_type": "display_data"
    },
    {
     "data": {
      "image/png": "[encoded data removed]",
      "text/plain": [
       "<Figure size 936x432 with 1 Axes>"
      ]
     },
     "metadata": {
      "needs_background": "light"
     },
     "output_type": "display_data"
    }
   ],
   "source": [
    "loc_plt=pd.crosstab(zomato['rate'],zomato['city'])\n",
    "loc_plt.plot(kind='bar',stacked=True, color = sns.color_palette(\"Set1\"));\n",
    "plt.figure(figsize = (13,6))\n",
    "plt.title('Locationwise Rating')\n",
    "plt.ylabel('Location')\n",
    "plt.xlabel('Rating')\n",
    "plt.legend();"
   ]
  },
  {
   "cell_type": "code",
   "execution_count": 38,
   "metadata": {},
   "outputs": [
    {
     "data": {
      "image/png": "[encoded data removed]",
      "text/plain": [
       "<Figure size 936x432 with 1 Axes>"
      ]
     },
     "metadata": {
      "needs_background": "light"
     },
     "output_type": "display_data"
    }
   ],
   "source": [
    "#rating vs booking table\n",
    "plt.figure(figsize = (13,6))\n",
    "sns.countplot(hue = zomato[\"book_table\"], palette = \"Set1\", x = zomato[\"rate\"])\n",
    "plt.title(\"Distribution of restaurant rating over booking table facility\")\n",
    "plt.show()"
   ]
  },
  {
   "cell_type": "code",
   "execution_count": 39,
   "metadata": {},
   "outputs": [
    {
     "data": {
      "text/plain": [
       "<seaborn.axisgrid.FacetGrid at 0x2971b08c6c8>"
      ]
     },
     "execution_count": 39,
     "metadata": {},
     "output_type": "execute_result"
    },
    {
     "data": {
      "text/plain": [
       "<Figure size 936x432 with 0 Axes>"
      ]
     },
     "metadata": {},
     "output_type": "display_data"
    },
    {
     "data": {
      "image/png": "[encoded data removed]",
      "text/plain": [
       "<Figure size 843.625x360 with 2 Axes>"
      ]
     },
     "metadata": {
      "needs_background": "light"
     },
     "output_type": "display_data"
    }
   ],
   "source": [
    "plt.figure(figsize = (13,6))\n",
    "sns.catplot(x=\"book_table\", hue=\"type\", col=\"online_order\", data=zomato, kind=\"count\")"
   ]
  },
  {
   "cell_type": "code",
   "execution_count": 40,
   "metadata": {},
   "outputs": [
    {
     "data": {
      "image/png": "[encoded data removed]",
      "text/plain": [
       "<Figure size 936x432 with 1 Axes>"
      ]
     },
     "metadata": {
      "needs_background": "light"
     },
     "output_type": "display_data"
    }
   ],
   "source": [
    "countplot('cost',zomato, None, 'Cost wise Restaurant Count','Cost','count', Lgfig= True)"
   ]
  },
  {
   "cell_type": "code",
   "execution_count": 41,
   "metadata": {},
   "outputs": [
    {
     "data": {
      "text/plain": [
       "Text(0.5, 0, 'Number of outlets')"
      ]
     },
     "execution_count": 41,
     "metadata": {},
     "output_type": "execute_result"
    },
    {
     "data": {
      "image/png": "[encoded data removed]",
      "text/plain": [
       "<Figure size 1080x504 with 1 Axes>"
      ]
     },
     "metadata": {
      "needs_background": "light"
     },
     "output_type": "display_data"
    }
   ],
   "source": [
    "plt.figure(figsize=(15,7))\n",
    "chains=zomato['name'].value_counts()[:20]\n",
    "sns.barplot(x=chains,y=chains.index,palette='Set1')\n",
    "plt.title(\"Most famous restaurant chains in Bangaluru\")\n",
    "plt.xlabel(\"Number of outlets\")"
   ]
  },
  {
   "cell_type": "code",
   "execution_count": 42,
   "metadata": {},
   "outputs": [
    {
     "data": {
      "text/plain": [
       "Text(0, 0.5, 'Density')"
      ]
     },
     "execution_count": 42,
     "metadata": {},
     "output_type": "execute_result"
    },
    {
     "data": {
      "image/png": "[encoded data removed]",
      "text/plain": [
       "<Figure size 432x288 with 1 Axes>"
      ]
     },
     "metadata": {
      "needs_background": "light"
     },
     "output_type": "display_data"
    }
   ],
   "source": [
    "sns.violinplot(zomato.cost, palette='Set1')\n",
    "plt.title('Approx cost for 2 people distribution')\n",
    "plt.xlabel('Approx cost for 2 people')\n",
    "plt.ylabel('Density')"
   ]
  },
  {
   "cell_type": "code",
   "execution_count": 43,
   "metadata": {},
   "outputs": [
    {
     "data": {
      "text/plain": [
       "Text(0.5, 0, 'No. of restaurants')"
      ]
     },
     "execution_count": 43,
     "metadata": {},
     "output_type": "execute_result"
    },
    {
     "data": {
      "image/png": "[encoded data removed]",
      "text/plain": [
       "<Figure size 936x432 with 1 Axes>"
      ]
     },
     "metadata": {
      "needs_background": "light"
     },
     "output_type": "display_data"
    }
   ],
   "source": [
    "cuisines=zomato['cuisines'].value_counts()[:15]\n",
    "plt.figure(figsize = (13,6))\n",
    "sns.barplot(cuisines,cuisines.index,palette='Set1')\n",
    "plt.title('Most popular cuisines of Bangalore')\n",
    "plt.xlabel('No. of restaurants')"
   ]
  },
  {
   "cell_type": "code",
   "execution_count": 44,
   "metadata": {},
   "outputs": [
    {
     "data": {
      "image/png": "[encoded data removed]",
      "text/plain": [
       "<Figure size 936x432 with 1 Axes>"
      ]
     },
     "metadata": {
      "needs_background": "light"
     },
     "output_type": "display_data"
    }
   ],
   "source": [
    "plt.figure(figsize = (13,6))\n",
    "zomato[zomato['rate']>=4.5]['name'].value_counts().nlargest(5).plot(kind = \"barh\", color = sns.color_palette(\"Set1\"))\n",
    "plt.xlabel(\"Number of restaurants\")\n",
    "plt.title(\"Best Restaurant Chain (Top 5) - Rating More than 4.5\")\n",
    "plt.tight_layout()"
   ]
  },
  {
   "cell_type": "markdown",
   "metadata": {},
   "source": [
    "### ___Ratings Prediction___"
   ]
  },
  {
   "cell_type": "code",
   "execution_count": 54,
   "metadata": {},
   "outputs": [],
   "source": [
    "# import sklearn libraries\n",
    "from sklearn.preprocessing import StandardScaler, OneHotEncoder\n",
    "\n",
    "from sklearn.model_selection import KFold, train_test_split, cross_val_score, cross_validate, GridSearchCV, learning_curve\n",
    "from sklearn.metrics import mean_squared_error, accuracy_score, make_scorer, r2_score\n",
    "\n",
    "# model libraries\n",
    "from sklearn.linear_model import LinearRegression, Ridge, Lasso\n",
    "from sklearn.ensemble import ExtraTreesRegressor, GradientBoostingRegressor, RandomForestRegressor \n",
    "from sklearn.tree import DecisionTreeRegressor\n",
    "from sklearn.neighbors import KNeighborsRegressor\n",
    "from sklearn.svm import SVR\n",
    "import lightgbm as lgb\n",
    "import catboost as cat\n",
    "import xgboost as xgb"
   ]
  },
  {
   "cell_type": "code",
   "execution_count": 55,
   "metadata": {},
   "outputs": [],
   "source": [
    "zomato_copy = zomato.copy()"
   ]
  },
  {
   "cell_type": "code",
   "execution_count": 56,
   "metadata": {},
   "outputs": [],
   "source": [
    "zomato_copy.drop(columns = ['address','name','reviews_list','menu_item','city'], inplace = True)"
   ]
  },
  {
   "cell_type": "code",
   "execution_count": 57,
   "metadata": {},
   "outputs": [
    {
     "data": {
      "text/html": [
       "<div>\n",
       "<style scoped>\n",
       "    .dataframe tbody tr th:only-of-type {\n",
       "        vertical-align: middle;\n",
       "    }\n",
       "\n",
       "    .dataframe tbody tr th {\n",
       "        vertical-align: top;\n",
       "    }\n",
       "\n",
       "    .dataframe thead th {\n",
       "        text-align: right;\n",
       "    }\n",
       "</style>\n",
       "<table border=\"1\" class=\"dataframe\">\n",
       "  <thead>\n",
       "    <tr style=\"text-align: right;\">\n",
       "      <th></th>\n",
       "      <th>online_order</th>\n",
       "      <th>book_table</th>\n",
       "      <th>rate</th>\n",
       "      <th>votes</th>\n",
       "      <th>location</th>\n",
       "      <th>rest_type</th>\n",
       "      <th>cuisines</th>\n",
       "      <th>cost</th>\n",
       "      <th>type</th>\n",
       "    </tr>\n",
       "  </thead>\n",
       "  <tbody>\n",
       "    <tr>\n",
       "      <th>0</th>\n",
       "      <td>True</td>\n",
       "      <td>True</td>\n",
       "      <td>4.1</td>\n",
       "      <td>775</td>\n",
       "      <td>Banashankari</td>\n",
       "      <td>Casual Dining</td>\n",
       "      <td>North Indian, Mughlai, Chinese</td>\n",
       "      <td>800</td>\n",
       "      <td>Buffet</td>\n",
       "    </tr>\n",
       "    <tr>\n",
       "      <th>1</th>\n",
       "      <td>True</td>\n",
       "      <td>False</td>\n",
       "      <td>4.1</td>\n",
       "      <td>787</td>\n",
       "      <td>Banashankari</td>\n",
       "      <td>Casual Dining</td>\n",
       "      <td>Chinese, North Indian, Thai</td>\n",
       "      <td>800</td>\n",
       "      <td>Buffet</td>\n",
       "    </tr>\n",
       "    <tr>\n",
       "      <th>2</th>\n",
       "      <td>True</td>\n",
       "      <td>False</td>\n",
       "      <td>3.8</td>\n",
       "      <td>918</td>\n",
       "      <td>Banashankari</td>\n",
       "      <td>Cafe, Casual Dining</td>\n",
       "      <td>Cafe, Mexican, Italian</td>\n",
       "      <td>800</td>\n",
       "      <td>Buffet</td>\n",
       "    </tr>\n",
       "    <tr>\n",
       "      <th>3</th>\n",
       "      <td>False</td>\n",
       "      <td>False</td>\n",
       "      <td>3.7</td>\n",
       "      <td>88</td>\n",
       "      <td>Banashankari</td>\n",
       "      <td>Quick Bites</td>\n",
       "      <td>South Indian, North Indian</td>\n",
       "      <td>300</td>\n",
       "      <td>Buffet</td>\n",
       "    </tr>\n",
       "    <tr>\n",
       "      <th>4</th>\n",
       "      <td>False</td>\n",
       "      <td>False</td>\n",
       "      <td>3.8</td>\n",
       "      <td>166</td>\n",
       "      <td>Basavanagudi</td>\n",
       "      <td>Casual Dining</td>\n",
       "      <td>North Indian, Rajasthani</td>\n",
       "      <td>600</td>\n",
       "      <td>Buffet</td>\n",
       "    </tr>\n",
       "  </tbody>\n",
       "</table>\n",
       "</div>"
      ],
      "text/plain": [
       "   online_order  book_table  rate  votes      location            rest_type  \\\n",
       "0          True        True   4.1    775  Banashankari        Casual Dining   \n",
       "1          True       False   4.1    787  Banashankari        Casual Dining   \n",
       "2          True       False   3.8    918  Banashankari  Cafe, Casual Dining   \n",
       "3         False       False   3.7     88  Banashankari          Quick Bites   \n",
       "4         False       False   3.8    166  Basavanagudi        Casual Dining   \n",
       "\n",
       "                         cuisines  cost    type  \n",
       "0  North Indian, Mughlai, Chinese   800  Buffet  \n",
       "1     Chinese, North Indian, Thai   800  Buffet  \n",
       "2          Cafe, Mexican, Italian   800  Buffet  \n",
       "3      South Indian, North Indian   300  Buffet  \n",
       "4        North Indian, Rajasthani   600  Buffet  "
      ]
     },
     "execution_count": 57,
     "metadata": {},
     "output_type": "execute_result"
    }
   ],
   "source": [
    "zomato_copy.head()"
   ]
  },
  {
   "cell_type": "code",
   "execution_count": 58,
   "metadata": {},
   "outputs": [
    {
     "name": "stdout",
     "output_type": "stream",
     "text": [
      "<class 'pandas.core.frame.DataFrame'>\n",
      "Int64Index: 41237 entries, 0 to 51716\n",
      "Data columns (total 9 columns):\n",
      "online_order    41237 non-null bool\n",
      "book_table      41237 non-null bool\n",
      "rate            41237 non-null float64\n",
      "votes           41237 non-null int64\n",
      "location        41237 non-null object\n",
      "rest_type       41237 non-null object\n",
      "cuisines        41237 non-null object\n",
      "cost            41237 non-null int32\n",
      "type            41237 non-null object\n",
      "dtypes: bool(2), float64(1), int32(1), int64(1), object(4)\n",
      "memory usage: 2.4+ MB\n"
     ]
    }
   ],
   "source": [
    "zomato_copy.info()"
   ]
  },
  {
   "cell_type": "code",
   "execution_count": 59,
   "metadata": {},
   "outputs": [],
   "source": [
    "for column in zomato_copy.columns[~zomato_copy.columns.isin(['rate', 'cost', 'votes'])]:\n",
    "    zomato_copy[column] = zomato_copy[column].factorize()[0]"
   ]
  },
  {
   "cell_type": "code",
   "execution_count": 60,
   "metadata": {},
   "outputs": [],
   "source": [
    "X = zomato_copy[['online_order','book_table','votes','location','rest_type','cuisines','cost','type']]\n",
    "y = zomato_copy['rate']"
   ]
  },
  {
   "cell_type": "code",
   "execution_count": 61,
   "metadata": {},
   "outputs": [],
   "source": [
    "minmax = lambda x: (x - x.min())/(x.max() - x.min())"
   ]
  },
  {
   "cell_type": "code",
   "execution_count": 62,
   "metadata": {},
   "outputs": [],
   "source": [
    "X_train,X_test,y_train,y_test=train_test_split(minmax(X),y,test_size=.2,random_state=0)"
   ]
  },
  {
   "cell_type": "code",
   "execution_count": 63,
   "metadata": {},
   "outputs": [
    {
     "data": {
      "text/html": [
       "<div>\n",
       "<style scoped>\n",
       "    .dataframe tbody tr th:only-of-type {\n",
       "        vertical-align: middle;\n",
       "    }\n",
       "\n",
       "    .dataframe tbody tr th {\n",
       "        vertical-align: top;\n",
       "    }\n",
       "\n",
       "    .dataframe thead th {\n",
       "        text-align: right;\n",
       "    }\n",
       "</style>\n",
       "<table border=\"1\" class=\"dataframe\">\n",
       "  <thead>\n",
       "    <tr style=\"text-align: right;\">\n",
       "      <th></th>\n",
       "      <th>online_order</th>\n",
       "      <th>book_table</th>\n",
       "      <th>votes</th>\n",
       "      <th>location</th>\n",
       "      <th>rest_type</th>\n",
       "      <th>cuisines</th>\n",
       "      <th>cost</th>\n",
       "      <th>type</th>\n",
       "    </tr>\n",
       "  </thead>\n",
       "  <tbody>\n",
       "    <tr>\n",
       "      <th>48171</th>\n",
       "      <td>0.0</td>\n",
       "      <td>0.0</td>\n",
       "      <td>0.115435</td>\n",
       "      <td>0.340659</td>\n",
       "      <td>0.000000</td>\n",
       "      <td>0.340237</td>\n",
       "      <td>0.345638</td>\n",
       "      <td>0.666667</td>\n",
       "    </tr>\n",
       "    <tr>\n",
       "      <th>45686</th>\n",
       "      <td>1.0</td>\n",
       "      <td>1.0</td>\n",
       "      <td>0.000416</td>\n",
       "      <td>0.296703</td>\n",
       "      <td>0.023256</td>\n",
       "      <td>0.219780</td>\n",
       "      <td>0.077181</td>\n",
       "      <td>0.666667</td>\n",
       "    </tr>\n",
       "    <tr>\n",
       "      <th>28345</th>\n",
       "      <td>1.0</td>\n",
       "      <td>1.0</td>\n",
       "      <td>0.001604</td>\n",
       "      <td>0.659341</td>\n",
       "      <td>0.046512</td>\n",
       "      <td>0.004227</td>\n",
       "      <td>0.068792</td>\n",
       "      <td>0.666667</td>\n",
       "    </tr>\n",
       "    <tr>\n",
       "      <th>255</th>\n",
       "      <td>0.0</td>\n",
       "      <td>1.0</td>\n",
       "      <td>0.009209</td>\n",
       "      <td>0.021978</td>\n",
       "      <td>0.000000</td>\n",
       "      <td>0.033390</td>\n",
       "      <td>0.060403</td>\n",
       "      <td>0.333333</td>\n",
       "    </tr>\n",
       "    <tr>\n",
       "      <th>50410</th>\n",
       "      <td>0.0</td>\n",
       "      <td>1.0</td>\n",
       "      <td>0.000356</td>\n",
       "      <td>0.604396</td>\n",
       "      <td>0.104651</td>\n",
       "      <td>0.406171</td>\n",
       "      <td>0.026846</td>\n",
       "      <td>0.333333</td>\n",
       "    </tr>\n",
       "  </tbody>\n",
       "</table>\n",
       "</div>"
      ],
      "text/plain": [
       "       online_order  book_table     votes  location  rest_type  cuisines  \\\n",
       "48171           0.0         0.0  0.115435  0.340659   0.000000  0.340237   \n",
       "45686           1.0         1.0  0.000416  0.296703   0.023256  0.219780   \n",
       "28345           1.0         1.0  0.001604  0.659341   0.046512  0.004227   \n",
       "255             0.0         1.0  0.009209  0.021978   0.000000  0.033390   \n",
       "50410           0.0         1.0  0.000356  0.604396   0.104651  0.406171   \n",
       "\n",
       "           cost      type  \n",
       "48171  0.345638  0.666667  \n",
       "45686  0.077181  0.666667  \n",
       "28345  0.068792  0.666667  \n",
       "255    0.060403  0.333333  \n",
       "50410  0.026846  0.333333  "
      ]
     },
     "execution_count": 63,
     "metadata": {},
     "output_type": "execute_result"
    }
   ],
   "source": [
    "X_train.head()"
   ]
  },
  {
   "cell_type": "code",
   "execution_count": 102,
   "metadata": {
    "scrolled": true
   },
   "outputs": [
    {
     "name": "stdout",
     "output_type": "stream",
     "text": [
      "The R2 Score of LinearRegression is 0.29536769226897286 and rmse score is 0.3650880684769119\n",
      "The R2 Score of SVR is 0.29147366772726935 and rmse score is 0.36609547556810246\n",
      "The R2 Score of RandomForestRegressor is 0.9355802718374655 and rmse score is 0.11038900222122595\n",
      "The R2 Score of DecisionTreeRegressor is 0.8363057355218413 and rmse score is 0.1759677558304582\n",
      "The R2 Score of Ridge is 0.29524191895093144 and rmse score is 0.3651206502137842\n",
      "The R2 Score of Lasso is -0.0003535330903408074 and rmse score is 0.4350038684569728\n",
      "The R2 Score of GradientBoostingRegressor is 0.5320758973778864 and rmse score is 0.2975117153973789\n",
      "The R2 Score of ExtraTreesRegressor is 0.9393848006165836 and rmse score is 0.1070796968431894\n",
      "The R2 Score of KNeighborsRegressor is 0.5566874518607359 and rmse score is 0.28958187523328793\n",
      "The R2 Score of LGBMRegressor is 0.6559082021469356 and rmse score is 0.25512529750795737\n",
      "The R2 Score of CatBoostRegressor is 0.6198659150628576 and rmse score is 0.26815430293494735\n",
      "[23:29:57] WARNING: C:/Jenkins/workspace/xgboost-win64_release_0.90/src/objective/regression_obj.cu:152: reg:linear is now deprecated in favor of reg:squarederror.\n",
      "The R2 Score of XGBRegressor is 0.531577554569483 and rmse score is 0.29767009938390054\n"
     ]
    }
   ],
   "source": [
    "# Building Simple Models\n",
    "lr = LinearRegression(n_jobs=-1)\n",
    "svr = SVR(kernel= 'linear')\n",
    "rf = RandomForestRegressor(random_state=44, n_jobs=-1)\n",
    "dt = DecisionTreeRegressor(min_samples_leaf=.0001)\n",
    "rdg = Ridge()\n",
    "las = Lasso()\n",
    "gb = GradientBoostingRegressor()\n",
    "exreg = ExtraTreesRegressor(n_estimators= 100, n_jobs=-1, random_state= 0)\n",
    "knn = KNeighborsRegressor()\n",
    "lgb = lgb.LGBMRegressor(random_state=0)\n",
    "cat = cat.CatBoostRegressor(random_state=0, verbose=0)\n",
    "xgb = xgb.XGBRegressor(random_state=0)\n",
    "\n",
    "models = [lr, svr, rf, dt, rdg, las, gb, exreg, knn, lgb, cat, xgb]\n",
    "\n",
    "for model in models:\n",
    "    model.fit(X_train, y_train)\n",
    "    pred_model = model.predict(X_test)\n",
    "    print(f'The R2 Score of {model.__class__.__name__} is {r2_score(y_test, pred_model)} and rmse score is {np.sqrt(mean_squared_error(y_test, pred_model))}')"
   ]
  },
  {
   "cell_type": "code",
   "execution_count": 86,
   "metadata": {},
   "outputs": [],
   "source": [
    "def plot_importances(model, cols):\n",
    "    plt.figure(figsize=(12,6))\n",
    "    f_imp = pd.Series(model.feature_importances_, index=cols).sort_values(ascending=True)\n",
    "    f_imp.plot(kind='barh', color = sns.color_palette(\"Set1\"))"
   ]
  },
  {
   "cell_type": "code",
   "execution_count": 87,
   "metadata": {},
   "outputs": [
    {
     "data": {
      "image/png": "[encoded data removed]",
      "text/plain": [
       "<Figure size 864x432 with 1 Axes>"
      ]
     },
     "metadata": {
      "needs_background": "light"
     },
     "output_type": "display_data"
    }
   ],
   "source": [
    "plot_importances(rf, list(X_train))"
   ]
  },
  {
   "cell_type": "code",
   "execution_count": 88,
   "metadata": {},
   "outputs": [
    {
     "data": {
      "text/plain": [
       "<matplotlib.legend.Legend at 0x297314b8208>"
      ]
     },
     "execution_count": 88,
     "metadata": {},
     "output_type": "execute_result"
    },
    {
     "data": {
      "image/png": "[encoded data removed]",
      "text/plain": [
       "<Figure size 432x288 with 1 Axes>"
      ]
     },
     "metadata": {
      "needs_background": "light"
     },
     "output_type": "display_data"
    }
   ],
   "source": [
    "preds_rf = rf.predict(X_test)\n",
    "pd.Series(preds_rf).plot(kind='hist', label='predictions')\n",
    "y_test.reset_index(drop=True).plot(kind='hist', label='true values')\n",
    "plt.legend()"
   ]
  },
  {
   "cell_type": "code",
   "execution_count": 89,
   "metadata": {},
   "outputs": [
    {
     "data": {
      "image/png": "[encoded data removed]",
      "text/plain": [
       "<Figure size 864x432 with 1 Axes>"
      ]
     },
     "metadata": {
      "needs_background": "light"
     },
     "output_type": "display_data"
    }
   ],
   "source": [
    "plot_importances(exreg, list(X_train))"
   ]
  },
  {
   "cell_type": "code",
   "execution_count": 90,
   "metadata": {},
   "outputs": [
    {
     "data": {
      "text/plain": [
       "<matplotlib.legend.Legend at 0x2972021c788>"
      ]
     },
     "execution_count": 90,
     "metadata": {},
     "output_type": "execute_result"
    },
    {
     "data": {
      "image/png": "[encoded data removed]",
      "text/plain": [
       "<Figure size 432x288 with 1 Axes>"
      ]
     },
     "metadata": {
      "needs_background": "light"
     },
     "output_type": "display_data"
    }
   ],
   "source": [
    "preds_rf = exreg.predict(X_test)\n",
    "pd.Series(preds_rf).plot(kind='hist', label='predictions')\n",
    "y_test.reset_index(drop=True).plot(kind='hist', label='true values')\n",
    "plt.legend()"
   ]
  },
  {
   "cell_type": "code",
   "execution_count": 92,
   "metadata": {},
   "outputs": [],
   "source": [
    "def rmse(y_true, y_pred):\n",
    "    return np.sqrt(mean_squared_error(y_true, y_pred))\n",
    "\n",
    "rmse_scoring = make_scorer(rmse, greater_is_better=False)"
   ]
  },
  {
   "cell_type": "code",
   "execution_count": 94,
   "metadata": {},
   "outputs": [
    {
     "data": {
      "text/plain": [
       "GridSearchCV(cv=3, error_score=nan,\n",
       "             estimator=RandomForestRegressor(bootstrap=True, ccp_alpha=0.0,\n",
       "                                             criterion='mse', max_depth=None,\n",
       "                                             max_features='auto',\n",
       "                                             max_leaf_nodes=None,\n",
       "                                             max_samples=None,\n",
       "                                             min_impurity_decrease=0.0,\n",
       "                                             min_impurity_split=None,\n",
       "                                             min_samples_leaf=1,\n",
       "                                             min_samples_split=2,\n",
       "                                             min_weight_fraction_leaf=0.0,\n",
       "                                             n_estimators=100, n_jobs=-1,\n",
       "                                             oob_score=False, random_state=44,\n",
       "                                             verbose=0, warm_start=False),\n",
       "             iid='deprecated', n_jobs=-1,\n",
       "             param_grid={'max_features': [None, 'sqrt', 0.5],\n",
       "                         'n_estimators': [20, 50, 100]},\n",
       "             pre_dispatch='2*n_jobs', refit=True, return_train_score=False,\n",
       "             scoring=make_scorer(rmse, greater_is_better=False), verbose=0)"
      ]
     },
     "execution_count": 94,
     "metadata": {},
     "output_type": "execute_result"
    }
   ],
   "source": [
    "param_grid = {'n_estimators':[20, 50, 100], 'max_features': [None, 'sqrt', 0.5]}\n",
    "grid_search = GridSearchCV(estimator= rf, param_grid=param_grid, cv=3, n_jobs=-1, scoring=rmse_scoring)\n",
    "grid_search.fit(X_train, y_train)"
   ]
  },
  {
   "cell_type": "code",
   "execution_count": 95,
   "metadata": {},
   "outputs": [
    {
     "data": {
      "text/plain": [
       "RandomForestRegressor(bootstrap=True, ccp_alpha=0.0, criterion='mse',\n",
       "                      max_depth=None, max_features=None, max_leaf_nodes=None,\n",
       "                      max_samples=None, min_impurity_decrease=0.0,\n",
       "                      min_impurity_split=None, min_samples_leaf=1,\n",
       "                      min_samples_split=2, min_weight_fraction_leaf=0.0,\n",
       "                      n_estimators=100, n_jobs=-1, oob_score=False,\n",
       "                      random_state=44, verbose=0, warm_start=False)"
      ]
     },
     "execution_count": 95,
     "metadata": {},
     "output_type": "execute_result"
    }
   ],
   "source": [
    "grid_search_pred = grid_search.predict(X_test)\n",
    "score_grid_search = rmse(y_test, grid_search_pred)\n",
    "grid_search.best_estimator_"
   ]
  },
  {
   "cell_type": "code",
   "execution_count": 97,
   "metadata": {},
   "outputs": [
    {
     "name": "stdout",
     "output_type": "stream",
     "text": [
      "The R2 Score of RandomForestRegressor is 0.9355802718374654 and rmse score is 0.11038900222122597\n"
     ]
    }
   ],
   "source": [
    "rf = RandomForestRegressor(bootstrap=True, ccp_alpha=0.0, criterion='mse',\n",
    "                      max_depth=None, max_features=None, max_leaf_nodes=None,\n",
    "                      max_samples=None, min_impurity_decrease=0.0,\n",
    "                      min_impurity_split=None, min_samples_leaf=1,\n",
    "                      min_samples_split=2, min_weight_fraction_leaf=0.0,\n",
    "                      n_estimators=100, n_jobs=-1, oob_score=False,\n",
    "                      random_state=44, verbose=0, warm_start=False)\n",
    "\n",
    "rf.fit(X_train, y_train)\n",
    "pred_model = rf.predict(X_test)\n",
    "print(f'The R2 Score of {rf.__class__.__name__} is {r2_score(y_test, pred_model)} and rmse score is {np.sqrt(mean_squared_error(y_test, pred_model))}')"
   ]
  },
  {
   "cell_type": "code",
   "execution_count": 101,
   "metadata": {},
   "outputs": [
    {
     "name": "stdout",
     "output_type": "stream",
     "text": [
      "[3.7   4.362 3.607 ... 3.3   3.8   3.211]\n",
      "[0.37   0.4362 0.3607 ... 0.33   0.38   0.3211]\n",
      "[3.7   4.375 3.585 ... 3.296 3.8   3.213]\n",
      "[0.74   0.8737 0.7192 ... 0.6596 0.76   0.6424]\n",
      "[3.7   4.367 3.602 ... 3.3   3.8   3.201]\n",
      "[1.11   1.3104 1.0794 ... 0.9896 1.14   0.9625]\n",
      "[3.7   4.365 3.596 ... 3.3   3.8   3.213]\n",
      "[1.48   1.7469 1.439  ... 1.3196 1.52   1.2838]\n",
      "[3.7        4.379      3.608      ... 3.29933333 3.8        3.207     ]\n",
      "[1.85       2.1848     1.7998     ... 1.64953333 1.9        1.6045    ]\n",
      "[3.7   4.375 3.617 ... 3.301 3.8   3.203]\n",
      "[2.22       2.6223     2.1615     ... 1.97963333 2.28       1.9248    ]\n",
      "[3.7   4.379 3.572 ... 3.301 3.8   3.214]\n",
      "[2.59       3.0602     2.5187     ... 2.30973333 2.66       2.2462    ]\n",
      "[3.702 4.371 3.607 ... 3.3   3.8   3.181]\n",
      "[2.9602     3.4973     2.8794     ... 2.63973333 3.04       2.5643    ]\n",
      "[3.7   4.37  3.619 ... 3.3   3.8   3.206]\n",
      "[3.3302     3.9343     3.2413     ... 2.96973333 3.42       2.8849    ]\n",
      "[3.7   4.378 3.596 ... 3.302 3.8   3.187]\n",
      "[3.7002     4.3721     3.6009     ... 3.29993333 3.8        3.2036    ]\n",
      "The RMSE of 10 iterations is 0.10987105902866902\n"
     ]
    }
   ],
   "source": [
    "# Checking at different Random State values\n",
    "\n",
    "N_ITER=10\n",
    "def run_n_iter(estimator, train, target,test, N_ITER=N_ITER):\n",
    "    pred_n_iter = np.zeros((y_test.shape[0],), dtype='float')\n",
    "    for i in range(N_ITER):\n",
    "        estimator.set_params(random_state= i, )\n",
    "        estimator.fit(train, target)\n",
    "        print(estimator.predict(test))\n",
    "        pred_n_iter += estimator.predict(test) / N_ITER\n",
    "        print(pred_n_iter)\n",
    "    return pred_n_iter\n",
    "\n",
    "pred_n_iter = run_n_iter(rf, X_train, y_train, X_test)\n",
    "print(f'The RMSE of {N_ITER} iterations is {rmse(y_test, pred_n_iter)}')"
   ]
  },
  {
   "cell_type": "code",
   "execution_count": 103,
   "metadata": {},
   "outputs": [],
   "source": [
    "def test_model(model, X_train=X_train, y_train=y_train):\n",
    "    cv = KFold(n_splits = 5, shuffle=True, random_state = 45)\n",
    "    r2 = make_scorer(r2_score)\n",
    "    r2_val_score = cross_val_score(model, X_train, y_train, cv=cv, scoring = r2)\n",
    "    score = [round(r2_val_score.mean()*100,2)]\n",
    "    return score"
   ]
  },
  {
   "cell_type": "code",
   "execution_count": 104,
   "metadata": {},
   "outputs": [
    {
     "data": {
      "text/plain": [
       "[88.11]"
      ]
     },
     "execution_count": 104,
     "metadata": {},
     "output_type": "execute_result"
    }
   ],
   "source": [
    "test_model(rf)"
   ]
  },
  {
   "cell_type": "code",
   "execution_count": 105,
   "metadata": {},
   "outputs": [
    {
     "data": {
      "text/plain": [
       "[88.33]"
      ]
     },
     "execution_count": 105,
     "metadata": {},
     "output_type": "execute_result"
    }
   ],
   "source": [
    "test_model(exreg)"
   ]
  },
  {
   "cell_type": "markdown",
   "metadata": {},
   "source": [
    "### ___Unseen Prediction___"
   ]
  },
  {
   "cell_type": "code",
   "execution_count": 113,
   "metadata": {},
   "outputs": [
    {
     "data": {
      "text/plain": [
       "ExtraTreesRegressor(bootstrap=False, ccp_alpha=0.0, criterion='mse',\n",
       "                    max_depth=None, max_features='auto', max_leaf_nodes=None,\n",
       "                    max_samples=None, min_impurity_decrease=0.0,\n",
       "                    min_impurity_split=None, min_samples_leaf=1,\n",
       "                    min_samples_split=2, min_weight_fraction_leaf=0.0,\n",
       "                    n_estimators=100, n_jobs=-1, oob_score=False,\n",
       "                    random_state=0, verbose=0, warm_start=False)"
      ]
     },
     "execution_count": 113,
     "metadata": {},
     "output_type": "execute_result"
    }
   ],
   "source": [
    "# training on all data\n",
    "exreg.fit(X,y)"
   ]
  },
  {
   "cell_type": "code",
   "execution_count": 153,
   "metadata": {},
   "outputs": [],
   "source": [
    "zomato_1=pd.read_csv(r\"C:\\Users\\PiyushSin\\Downloads\\zomato.csv\")\n",
    "zomato_1.drop(columns = ['url','phone','dish_liked'], inplace = True) \n",
    "zomato_1.drop_duplicates(inplace=True)"
   ]
  },
  {
   "cell_type": "code",
   "execution_count": 154,
   "metadata": {},
   "outputs": [],
   "source": [
    "zomato_2 = zomato_1.loc[zomato_1.rate.isnull()]\n",
    "zomato_3 = zomato_1.loc[zomato_1.rate =='NEW']\n",
    "zomato_4 = zomato_1.loc[zomato_1.rate =='-']"
   ]
  },
  {
   "cell_type": "code",
   "execution_count": 155,
   "metadata": {},
   "outputs": [
    {
     "data": {
      "text/html": [
       "<div>\n",
       "<style scoped>\n",
       "    .dataframe tbody tr th:only-of-type {\n",
       "        vertical-align: middle;\n",
       "    }\n",
       "\n",
       "    .dataframe tbody tr th {\n",
       "        vertical-align: top;\n",
       "    }\n",
       "\n",
       "    .dataframe thead th {\n",
       "        text-align: right;\n",
       "    }\n",
       "</style>\n",
       "<table border=\"1\" class=\"dataframe\">\n",
       "  <thead>\n",
       "    <tr style=\"text-align: right;\">\n",
       "      <th></th>\n",
       "      <th>address</th>\n",
       "      <th>name</th>\n",
       "      <th>online_order</th>\n",
       "      <th>book_table</th>\n",
       "      <th>votes</th>\n",
       "      <th>location</th>\n",
       "      <th>rest_type</th>\n",
       "      <th>cuisines</th>\n",
       "      <th>approx_cost(for two people)</th>\n",
       "      <th>reviews_list</th>\n",
       "      <th>menu_item</th>\n",
       "      <th>listed_in(type)</th>\n",
       "      <th>listed_in(city)</th>\n",
       "    </tr>\n",
       "  </thead>\n",
       "  <tbody>\n",
       "    <tr>\n",
       "      <th>0</th>\n",
       "      <td>161/C, 6th Main, 80 Feet Road, Bhuvaneshwari N...</td>\n",
       "      <td>Chill Out</td>\n",
       "      <td>No</td>\n",
       "      <td>No</td>\n",
       "      <td>0</td>\n",
       "      <td>Banashankari</td>\n",
       "      <td>Quick Bites</td>\n",
       "      <td>South Indian, Chinese</td>\n",
       "      <td>100</td>\n",
       "      <td>[('Rated 4.0', 'RATED\\n  Good Location. Small ...</td>\n",
       "      <td>[]</td>\n",
       "      <td>Delivery</td>\n",
       "      <td>Banashankari</td>\n",
       "    </tr>\n",
       "    <tr>\n",
       "      <th>1</th>\n",
       "      <td>BDA Shopping Complex, 24th Cross Road, Siddann...</td>\n",
       "      <td>Me And My Cake</td>\n",
       "      <td>No</td>\n",
       "      <td>No</td>\n",
       "      <td>0</td>\n",
       "      <td>Banashankari</td>\n",
       "      <td>Delivery</td>\n",
       "      <td>Bakery, Desserts</td>\n",
       "      <td>500</td>\n",
       "      <td>[('Rated 1.0', 'RATED\\n  Do not order anything...</td>\n",
       "      <td>[]</td>\n",
       "      <td>Delivery</td>\n",
       "      <td>Banashankari</td>\n",
       "    </tr>\n",
       "    <tr>\n",
       "      <th>2</th>\n",
       "      <td>Shop 18 , 3rd cross road,Markandeya Layout, Ba...</td>\n",
       "      <td>Sunsadm</td>\n",
       "      <td>No</td>\n",
       "      <td>No</td>\n",
       "      <td>0</td>\n",
       "      <td>Banashankari</td>\n",
       "      <td>Takeaway, Delivery</td>\n",
       "      <td>South Indian</td>\n",
       "      <td>400</td>\n",
       "      <td>[]</td>\n",
       "      <td>[]</td>\n",
       "      <td>Delivery</td>\n",
       "      <td>Banashankari</td>\n",
       "    </tr>\n",
       "    <tr>\n",
       "      <th>3</th>\n",
       "      <td>625, 5th Cross Road, Hanumanthnagar, Banashank...</td>\n",
       "      <td>Annapooraneshwari Mess</td>\n",
       "      <td>No</td>\n",
       "      <td>No</td>\n",
       "      <td>0</td>\n",
       "      <td>Banashankari</td>\n",
       "      <td>Mess</td>\n",
       "      <td>South Indian</td>\n",
       "      <td>200</td>\n",
       "      <td>[]</td>\n",
       "      <td>[]</td>\n",
       "      <td>Delivery</td>\n",
       "      <td>Banashankari</td>\n",
       "    </tr>\n",
       "    <tr>\n",
       "      <th>4</th>\n",
       "      <td>1722, 13th Main Road 31st Cross BSK, 2nd Stage...</td>\n",
       "      <td>Coffee Shopee</td>\n",
       "      <td>No</td>\n",
       "      <td>No</td>\n",
       "      <td>0</td>\n",
       "      <td>Banashankari</td>\n",
       "      <td>Takeaway, Delivery</td>\n",
       "      <td>Beverages</td>\n",
       "      <td>250</td>\n",
       "      <td>[]</td>\n",
       "      <td>[]</td>\n",
       "      <td>Delivery</td>\n",
       "      <td>Banashankari</td>\n",
       "    </tr>\n",
       "  </tbody>\n",
       "</table>\n",
       "</div>"
      ],
      "text/plain": [
       "                                             address                    name  \\\n",
       "0  161/C, 6th Main, 80 Feet Road, Bhuvaneshwari N...               Chill Out   \n",
       "1  BDA Shopping Complex, 24th Cross Road, Siddann...          Me And My Cake   \n",
       "2  Shop 18 , 3rd cross road,Markandeya Layout, Ba...                 Sunsadm   \n",
       "3  625, 5th Cross Road, Hanumanthnagar, Banashank...  Annapooraneshwari Mess   \n",
       "4  1722, 13th Main Road 31st Cross BSK, 2nd Stage...           Coffee Shopee   \n",
       "\n",
       "  online_order book_table  votes      location           rest_type  \\\n",
       "0           No         No      0  Banashankari         Quick Bites   \n",
       "1           No         No      0  Banashankari            Delivery   \n",
       "2           No         No      0  Banashankari  Takeaway, Delivery   \n",
       "3           No         No      0  Banashankari                Mess   \n",
       "4           No         No      0  Banashankari  Takeaway, Delivery   \n",
       "\n",
       "                cuisines approx_cost(for two people)  \\\n",
       "0  South Indian, Chinese                         100   \n",
       "1       Bakery, Desserts                         500   \n",
       "2           South Indian                         400   \n",
       "3           South Indian                         200   \n",
       "4              Beverages                         250   \n",
       "\n",
       "                                        reviews_list menu_item  \\\n",
       "0  [('Rated 4.0', 'RATED\\n  Good Location. Small ...        []   \n",
       "1  [('Rated 1.0', 'RATED\\n  Do not order anything...        []   \n",
       "2                                                 []        []   \n",
       "3                                                 []        []   \n",
       "4                                                 []        []   \n",
       "\n",
       "  listed_in(type) listed_in(city)  \n",
       "0        Delivery    Banashankari  \n",
       "1        Delivery    Banashankari  \n",
       "2        Delivery    Banashankari  \n",
       "3        Delivery    Banashankari  \n",
       "4        Delivery    Banashankari  "
      ]
     },
     "execution_count": 155,
     "metadata": {},
     "output_type": "execute_result"
    }
   ],
   "source": [
    "zomato_2 = zomato_2.append(zomato_3, ignore_index = True)\n",
    "zomato_2 = zomato_2.append(zomato_4, ignore_index = True)\n",
    "zomato_2.drop(columns = 'rate', inplace = True)\n",
    "zomato_2.head()"
   ]
  },
  {
   "cell_type": "code",
   "execution_count": 156,
   "metadata": {},
   "outputs": [
    {
     "name": "stdout",
     "output_type": "stream",
     "text": [
      "<class 'pandas.core.frame.DataFrame'>\n",
      "RangeIndex: 10036 entries, 0 to 10035\n",
      "Data columns (total 13 columns):\n",
      "address                        10036 non-null object\n",
      "name                           10036 non-null object\n",
      "online_order                   10036 non-null object\n",
      "book_table                     10036 non-null object\n",
      "votes                          10036 non-null int64\n",
      "location                       10015 non-null object\n",
      "rest_type                      9958 non-null object\n",
      "cuisines                       10002 non-null object\n",
      "approx_cost(for two people)    9937 non-null object\n",
      "reviews_list                   10036 non-null object\n",
      "menu_item                      10036 non-null object\n",
      "listed_in(type)                10036 non-null object\n",
      "listed_in(city)                10036 non-null object\n",
      "dtypes: int64(1), object(12)\n",
      "memory usage: 1019.4+ KB\n"
     ]
    }
   ],
   "source": [
    "zomato_2.info()"
   ]
  },
  {
   "cell_type": "code",
   "execution_count": 157,
   "metadata": {},
   "outputs": [],
   "source": [
    "zomato_2 = zomato_2.rename(columns={'approx_cost(for two people)':'cost','listed_in(type)':'type',\n",
    "                                  'listed_in(city)':'city'})\n",
    "\n",
    "zomato_2.dropna(how='any',inplace=True)\n",
    "zomato_2.online_order.replace(('Yes','No'),(True, False),inplace=True)\n",
    "zomato_2.book_table.replace(('Yes','No'),(True, False),inplace=True)\n",
    "zomato_2['cost'] = zomato_2['cost'].astype(str) #Changing the cost to string\n",
    "zomato_2['cost'] = zomato_2['cost'].apply(lambda x: x.replace(',','')) #Using lambda function to replace ',' from cost\n",
    "zomato_2['cost'] = zomato_2['cost'].astype(int) # Changing the cost to Float\n",
    "\n",
    "zomato_2.drop(columns = ['address','name','reviews_list','menu_item','city'], inplace = True)"
   ]
  },
  {
   "cell_type": "code",
   "execution_count": 161,
   "metadata": {},
   "outputs": [],
   "source": [
    "for column in zomato_2.columns[~zomato_2.columns.isin(['cost', 'votes'])]:\n",
    "    zomato_2[column] = zomato_2[column].factorize()[0]"
   ]
  },
  {
   "cell_type": "code",
   "execution_count": 169,
   "metadata": {},
   "outputs": [
    {
     "data": {
      "text/plain": [
       "[3.4929999999999954,\n",
       " 3.386000000000004,\n",
       " 3.386000000000004,\n",
       " 3.4800000000000004,\n",
       " 3.474,\n",
       " 3.377000000000004,\n",
       " 3.4800000000000004,\n",
       " 3.4879999999999955,\n",
       " 3.3790000000000044,\n",
       " 3.3840000000000043,\n",
       " 3.3790000000000044,\n",
       " 3.4879999999999955,\n",
       " 3.4879999999999955,\n",
       " 3.474,\n",
       " 3.3890000000000042,\n",
       " 3.377000000000004,\n",
       " 3.377000000000004,\n",
       " 3.377000000000004,\n",
       " 3.4800000000000004,\n",
       " 3.377000000000004,\n",
       " 3.377000000000004,\n",
       " 3.377000000000004,\n",
       " 3.4800000000000004,\n",
       " 3.377000000000004,\n",
       " 3.4800000000000004,\n",
       " 3.4800000000000004,\n",
       " 3.377000000000004,\n",
       " 3.4800000000000004,\n",
       " 3.4800000000000004,\n",
       " 3.474,\n",
       " 3.377000000000004,\n",
       " 3.3840000000000043,\n",
       " 3.377000000000004,\n",
       " 3.377000000000004,\n",
       " 3.3790000000000044,\n",
       " 3.377000000000004,\n",
       " 3.377000000000004,\n",
       " 3.3890000000000042,\n",
       " 3.416000000000005,\n",
       " 3.377000000000004,\n",
       " 3.377000000000004,\n",
       " 3.4800000000000004,\n",
       " 3.377000000000004,\n",
       " 3.3840000000000043,\n",
       " 3.4879999999999955,\n",
       " 3.4800000000000004,\n",
       " 3.377000000000004,\n",
       " 3.3890000000000042,\n",
       " 3.3840000000000043,\n",
       " 3.377000000000004,\n",
       " 3.4800000000000004,\n",
       " 3.377000000000004,\n",
       " 3.474,\n",
       " 3.3840000000000043,\n",
       " 3.474000000000001,\n",
       " 3.3840000000000043,\n",
       " 3.377000000000004,\n",
       " 3.4879999999999955,\n",
       " 3.4800000000000004,\n",
       " 3.379000000000005,\n",
       " 3.474,\n",
       " 3.4879999999999955,\n",
       " 3.377000000000004,\n",
       " 3.480999999999995,\n",
       " 3.4800000000000004,\n",
       " 3.3890000000000042,\n",
       " 3.377000000000004,\n",
       " 3.476000000000001,\n",
       " 3.4800000000000004,\n",
       " 3.377000000000004,\n",
       " 3.379000000000005,\n",
       " 3.474,\n",
       " 3.4800000000000004,\n",
       " 3.474,\n",
       " 3.3840000000000043,\n",
       " 3.377000000000004,\n",
       " 3.4800000000000004,\n",
       " 3.4800000000000004,\n",
       " 3.379000000000005,\n",
       " 3.379000000000005,\n",
       " 3.4800000000000004,\n",
       " 3.4800000000000004,\n",
       " 3.4800000000000004,\n",
       " 3.416000000000005,\n",
       " 3.4800000000000004,\n",
       " 3.4800000000000004,\n",
       " 3.4800000000000004,\n",
       " 3.4800000000000004,\n",
       " 3.474,\n",
       " 3.4800000000000004,\n",
       " 3.4800000000000004,\n",
       " 3.4800000000000004,\n",
       " 3.4800000000000004,\n",
       " 3.379000000000005,\n",
       " 3.4800000000000004,\n",
       " 3.4760000000000004,\n",
       " 3.4800000000000004,\n",
       " 3.4800000000000004,\n",
       " 3.4800000000000004,\n",
       " 3.4800000000000004,\n",
       " 3.4800000000000004,\n",
       " 3.4800000000000004,\n",
       " 3.4800000000000004,\n",
       " 3.4800000000000004,\n",
       " 3.4800000000000004,\n",
       " 3.4800000000000004,\n",
       " 3.377000000000004,\n",
       " 3.4800000000000004,\n",
       " 3.4800000000000004,\n",
       " 3.4800000000000004,\n",
       " 3.4800000000000004,\n",
       " 3.4800000000000004,\n",
       " 3.3890000000000042,\n",
       " 3.4800000000000004,\n",
       " 3.377000000000004,\n",
       " 3.4879999999999955,\n",
       " 3.377000000000004,\n",
       " 3.3840000000000043,\n",
       " 3.377000000000004,\n",
       " 3.3810000000000047,\n",
       " 3.3840000000000043,\n",
       " 3.3860000000000046,\n",
       " 3.377000000000004,\n",
       " 3.379000000000005,\n",
       " 3.377000000000004,\n",
       " 3.377000000000004,\n",
       " 3.379000000000005,\n",
       " 3.377000000000004,\n",
       " 3.377000000000004,\n",
       " 3.379000000000005,\n",
       " 3.377000000000004,\n",
       " 3.377000000000004,\n",
       " 3.4879999999999955,\n",
       " 3.379000000000005,\n",
       " 3.377000000000004,\n",
       " 3.379000000000005,\n",
       " 3.379000000000005,\n",
       " 3.377000000000004,\n",
       " 3.377000000000004,\n",
       " 3.379000000000005,\n",
       " 3.377000000000004,\n",
       " 3.377000000000004,\n",
       " 3.377000000000004,\n",
       " 3.377000000000004,\n",
       " 3.377000000000004,\n",
       " 3.377000000000004,\n",
       " 3.4879999999999955,\n",
       " 3.379000000000005,\n",
       " 3.377000000000004,\n",
       " 3.377000000000004,\n",
       " 3.377000000000004,\n",
       " 3.379000000000005,\n",
       " 3.3840000000000043,\n",
       " 3.377000000000004,\n",
       " 3.3840000000000043,\n",
       " 3.377000000000004,\n",
       " 3.377000000000004,\n",
       " 3.377000000000004,\n",
       " 3.377000000000004,\n",
       " 3.3790000000000044,\n",
       " 3.3840000000000043,\n",
       " 3.3840000000000043,\n",
       " 3.377000000000004,\n",
       " 3.377000000000004,\n",
       " 3.377000000000004,\n",
       " 3.377000000000004,\n",
       " 3.3840000000000043,\n",
       " 3.377000000000004,\n",
       " 3.379000000000005,\n",
       " 3.377000000000004,\n",
       " 3.377000000000004,\n",
       " 3.377000000000004,\n",
       " 3.377000000000004,\n",
       " 3.4879999999999955,\n",
       " 3.3790000000000044,\n",
       " 3.377000000000004,\n",
       " 3.377000000000004,\n",
       " 3.377000000000004,\n",
       " 3.3840000000000043,\n",
       " 3.377000000000004,\n",
       " 3.377000000000004,\n",
       " 3.377000000000004,\n",
       " 3.4879999999999955,\n",
       " 3.377000000000004,\n",
       " 3.391000000000005,\n",
       " 3.3790000000000044,\n",
       " 3.4879999999999955,\n",
       " 3.377000000000004,\n",
       " 3.377000000000004,\n",
       " 3.4879999999999955,\n",
       " 3.377000000000004,\n",
       " 3.379000000000005,\n",
       " 3.377000000000004,\n",
       " 3.377000000000004,\n",
       " 3.377000000000004,\n",
       " 3.474,\n",
       " 3.474,\n",
       " 3.4800000000000004,\n",
       " 3.474,\n",
       " 3.4800000000000004,\n",
       " 3.474,\n",
       " 3.4800000000000004,\n",
       " 3.4800000000000004,\n",
       " 3.4800000000000004,\n",
       " 3.4800000000000004,\n",
       " 3.377000000000004,\n",
       " 3.377000000000004,\n",
       " 3.377000000000004,\n",
       " 3.379000000000005,\n",
       " 3.379000000000005,\n",
       " 3.377000000000004,\n",
       " 3.377000000000004,\n",
       " 3.377000000000004,\n",
       " 3.377000000000004,\n",
       " 3.377000000000004,\n",
       " 3.377000000000004,\n",
       " 3.377000000000004,\n",
       " 3.377000000000004,\n",
       " 3.377000000000004,\n",
       " 3.377000000000004,\n",
       " 3.377000000000004,\n",
       " 3.377000000000004,\n",
       " 3.377000000000004,\n",
       " 3.377000000000004,\n",
       " 3.377000000000004,\n",
       " 3.377000000000004,\n",
       " 3.377000000000004,\n",
       " 3.377000000000004,\n",
       " 3.379000000000005,\n",
       " 3.379000000000005,\n",
       " 3.377000000000004,\n",
       " 3.377000000000004,\n",
       " 3.379000000000005,\n",
       " 3.377000000000004,\n",
       " 3.3790000000000044,\n",
       " 3.377000000000004,\n",
       " 3.4879999999999955,\n",
       " 3.377000000000004,\n",
       " 3.377000000000004,\n",
       " 3.377000000000004,\n",
       " 3.377000000000004,\n",
       " 3.379000000000005,\n",
       " 3.377000000000004,\n",
       " 3.3790000000000044,\n",
       " 3.377000000000004,\n",
       " 3.377000000000004,\n",
       " 3.377000000000004,\n",
       " 3.3790000000000044,\n",
       " 3.377000000000004,\n",
       " 3.3840000000000043,\n",
       " 3.377000000000004,\n",
       " 3.3840000000000043,\n",
       " 3.377000000000004,\n",
       " 3.3840000000000043,\n",
       " 3.377000000000004,\n",
       " 3.377000000000004,\n",
       " 3.3890000000000042,\n",
       " 3.377000000000004,\n",
       " 3.377000000000004,\n",
       " 3.377000000000004,\n",
       " 3.4879999999999955,\n",
       " 3.377000000000004,\n",
       " 3.377000000000004,\n",
       " 3.3790000000000044,\n",
       " 3.377000000000004,\n",
       " 3.377000000000004,\n",
       " 3.377000000000004,\n",
       " 3.377000000000004,\n",
       " 3.377000000000004,\n",
       " 3.377000000000004,\n",
       " 3.377000000000004,\n",
       " 3.4879999999999955,\n",
       " 3.4879999999999955,\n",
       " 3.379000000000005,\n",
       " 3.377000000000004,\n",
       " 3.377000000000004,\n",
       " 3.377000000000004,\n",
       " 3.377000000000004,\n",
       " 3.379000000000005,\n",
       " 3.377000000000004,\n",
       " 3.377000000000004,\n",
       " 3.377000000000004,\n",
       " 3.377000000000004,\n",
       " 3.377000000000004,\n",
       " 3.379000000000005,\n",
       " 3.377000000000004,\n",
       " 3.377000000000004,\n",
       " 3.379000000000005,\n",
       " 3.377000000000004,\n",
       " 3.377000000000004,\n",
       " 3.377000000000004,\n",
       " 3.379000000000005,\n",
       " 3.377000000000004,\n",
       " 3.379000000000005,\n",
       " 3.377000000000004,\n",
       " 3.377000000000004,\n",
       " 3.377000000000004,\n",
       " 3.379000000000005,\n",
       " 3.377000000000004,\n",
       " 3.377000000000004,\n",
       " 3.377000000000004,\n",
       " 3.377000000000004,\n",
       " 3.377000000000004,\n",
       " 3.379000000000005,\n",
       " 3.377000000000004,\n",
       " 3.377000000000004,\n",
       " 3.377000000000004,\n",
       " 3.377000000000004,\n",
       " 3.377000000000004,\n",
       " 3.377000000000004,\n",
       " 3.377000000000004,\n",
       " 3.379000000000005,\n",
       " 3.377000000000004,\n",
       " 3.377000000000004,\n",
       " 3.379000000000005,\n",
       " 3.379000000000005,\n",
       " 3.4879999999999955,\n",
       " 3.379000000000005,\n",
       " 3.377000000000004,\n",
       " 3.377000000000004,\n",
       " 3.377000000000004,\n",
       " 3.377000000000004,\n",
       " 3.379000000000005,\n",
       " 3.377000000000004,\n",
       " 3.379000000000005,\n",
       " 3.377000000000004,\n",
       " 3.379000000000005,\n",
       " 3.377000000000004,\n",
       " 3.377000000000004,\n",
       " 3.377000000000004,\n",
       " 3.4879999999999955,\n",
       " 3.377000000000004,\n",
       " 3.379000000000005,\n",
       " 3.377000000000004,\n",
       " 3.377000000000004,\n",
       " 3.377000000000004,\n",
       " 3.377000000000004,\n",
       " 3.377000000000004,\n",
       " 3.377000000000004,\n",
       " 3.377000000000004,\n",
       " 3.377000000000004,\n",
       " 3.377000000000004,\n",
       " 3.377000000000004,\n",
       " 3.377000000000004,\n",
       " 3.377000000000004,\n",
       " 3.377000000000004,\n",
       " 3.377000000000004,\n",
       " 3.379000000000005,\n",
       " 3.377000000000004,\n",
       " 3.377000000000004,\n",
       " 3.377000000000004,\n",
       " 3.377000000000004,\n",
       " 3.4879999999999955,\n",
       " 3.377000000000004,\n",
       " 3.377000000000004,\n",
       " 3.377000000000004,\n",
       " 3.3890000000000042,\n",
       " 3.377000000000004,\n",
       " 3.3840000000000043,\n",
       " 3.4879999999999955,\n",
       " 3.377000000000004,\n",
       " 3.377000000000004,\n",
       " 3.379000000000005,\n",
       " 3.379000000000005,\n",
       " 3.377000000000004,\n",
       " 3.377000000000004,\n",
       " 3.377000000000004,\n",
       " 3.377000000000004,\n",
       " 3.3790000000000044,\n",
       " 3.3840000000000043,\n",
       " 3.379000000000005,\n",
       " 3.377000000000004,\n",
       " 3.377000000000004,\n",
       " 3.379000000000005,\n",
       " 3.377000000000004,\n",
       " 3.377000000000004,\n",
       " 3.377000000000004,\n",
       " 3.377000000000004,\n",
       " 3.377000000000004,\n",
       " 3.377000000000004,\n",
       " 3.377000000000004,\n",
       " 3.377000000000004,\n",
       " 3.379000000000005,\n",
       " 3.379000000000005,\n",
       " 3.379000000000005,\n",
       " 3.377000000000004,\n",
       " 3.377000000000004,\n",
       " 3.377000000000004,\n",
       " 3.377000000000004,\n",
       " 3.379000000000005,\n",
       " 3.377000000000004,\n",
       " 3.377000000000004,\n",
       " 3.377000000000004,\n",
       " 3.379000000000005,\n",
       " 3.379000000000005,\n",
       " 3.377000000000004,\n",
       " 3.377000000000004,\n",
       " 3.377000000000004,\n",
       " 3.377000000000004,\n",
       " 3.377000000000004,\n",
       " 3.4879999999999955,\n",
       " 3.4879999999999955,\n",
       " 3.4879999999999955,\n",
       " 3.377000000000004,\n",
       " 3.377000000000004,\n",
       " 3.4879999999999955,\n",
       " 3.4879999999999955,\n",
       " 3.377000000000004,\n",
       " 3.377000000000004,\n",
       " 3.377000000000004,\n",
       " 3.377000000000004,\n",
       " 3.377000000000004,\n",
       " 3.4879999999999955,\n",
       " 3.377000000000004,\n",
       " 3.3890000000000042,\n",
       " 3.3840000000000043,\n",
       " 3.488999999999996,\n",
       " 3.377000000000004,\n",
       " 3.377000000000004,\n",
       " 3.377000000000004,\n",
       " 3.3840000000000043,\n",
       " 3.377000000000004,\n",
       " 3.377000000000004,\n",
       " 3.377000000000004,\n",
       " 3.3790000000000044,\n",
       " 3.377000000000004,\n",
       " 3.3890000000000042,\n",
       " 3.377000000000004,\n",
       " 3.3890000000000042,\n",
       " 3.4879999999999955,\n",
       " 3.377000000000004,\n",
       " 3.3840000000000043,\n",
       " 3.474,\n",
       " 3.474,\n",
       " 3.3690000000000055,\n",
       " 3.3690000000000055,\n",
       " 3.4800000000000004,\n",
       " 3.4800000000000004,\n",
       " 3.3690000000000055,\n",
       " 3.4800000000000004,\n",
       " 3.3690000000000055,\n",
       " 3.379000000000005,\n",
       " 3.4800000000000004,\n",
       " 3.3690000000000055,\n",
       " 3.367000000000005,\n",
       " 3.4800000000000004,\n",
       " 3.3810000000000056,\n",
       " 3.4800000000000004,\n",
       " 3.4800000000000004,\n",
       " 3.3690000000000055,\n",
       " 3.3690000000000055,\n",
       " 3.4800000000000004,\n",
       " 3.4800000000000004,\n",
       " 3.4800000000000004,\n",
       " 3.4800000000000004,\n",
       " 3.3690000000000055,\n",
       " 3.4800000000000004,\n",
       " 3.4800000000000004,\n",
       " 3.4800000000000004,\n",
       " 3.4800000000000004,\n",
       " 3.4800000000000004,\n",
       " 3.4800000000000004,\n",
       " 3.4800000000000004,\n",
       " 3.367000000000005,\n",
       " 3.3690000000000055,\n",
       " 3.4800000000000004,\n",
       " 3.4800000000000004,\n",
       " 3.367000000000005,\n",
       " 3.3690000000000055,\n",
       " 3.4800000000000004,\n",
       " 3.4800000000000004,\n",
       " 3.3690000000000055,\n",
       " 3.4800000000000004,\n",
       " 3.3690000000000055,\n",
       " 3.3690000000000055,\n",
       " 3.3690000000000055,\n",
       " 3.367000000000005,\n",
       " 3.3690000000000055,\n",
       " 3.4800000000000004,\n",
       " 3.3690000000000055,\n",
       " 3.374000000000005,\n",
       " 3.4889999999999954,\n",
       " 3.362000000000005,\n",
       " 3.4889999999999954,\n",
       " 3.4889999999999954,\n",
       " 3.4889999999999954,\n",
       " 3.4889999999999954,\n",
       " 3.4819999999999953,\n",
       " 3.4800000000000004,\n",
       " 3.3640000000000048,\n",
       " 3.374000000000005,\n",
       " 3.369000000000005,\n",
       " 3.3640000000000048,\n",
       " 3.4889999999999954,\n",
       " 3.4889999999999954,\n",
       " 3.478,\n",
       " 3.374000000000005,\n",
       " 3.374000000000005,\n",
       " 3.481999999999995,\n",
       " 3.478,\n",
       " 3.362000000000005,\n",
       " 3.4840000000000004,\n",
       " 3.374000000000005,\n",
       " 3.362000000000005,\n",
       " 3.369000000000005,\n",
       " 3.362000000000005,\n",
       " 3.4840000000000004,\n",
       " 3.4840000000000004,\n",
       " 3.362000000000005,\n",
       " 3.362000000000005,\n",
       " 3.4840000000000004,\n",
       " 3.362000000000005,\n",
       " 3.362000000000005,\n",
       " 3.362000000000005,\n",
       " 3.4840000000000004,\n",
       " 3.362000000000005,\n",
       " 3.362000000000005,\n",
       " 3.4840000000000004,\n",
       " 3.4840000000000004,\n",
       " 3.362000000000005,\n",
       " 3.362000000000005,\n",
       " 3.4840000000000004,\n",
       " 3.362000000000005,\n",
       " 3.478,\n",
       " 3.4840000000000004,\n",
       " 3.4840000000000004,\n",
       " 3.4840000000000004,\n",
       " 3.362000000000005,\n",
       " 3.362000000000005,\n",
       " 3.4840000000000004,\n",
       " 3.4840000000000004,\n",
       " 3.4840000000000004,\n",
       " 3.4840000000000004,\n",
       " 3.4840000000000004,\n",
       " 3.4840000000000004,\n",
       " 3.4840000000000004,\n",
       " 3.4840000000000004,\n",
       " 3.4840000000000004,\n",
       " 3.4840000000000004,\n",
       " 3.48,\n",
       " 3.362000000000005,\n",
       " 3.362000000000005,\n",
       " 3.3640000000000057,\n",
       " 3.4840000000000004,\n",
       " 3.3640000000000057,\n",
       " 3.3640000000000048,\n",
       " 3.3640000000000048,\n",
       " 3.4760000000000004,\n",
       " 3.369000000000005,\n",
       " 3.4840000000000004,\n",
       " 3.4780000000000006,\n",
       " 3.369000000000005,\n",
       " 3.4840000000000004,\n",
       " 3.362000000000005,\n",
       " 3.362000000000005,\n",
       " 3.362000000000005,\n",
       " 3.478,\n",
       " 3.362000000000005,\n",
       " 3.362000000000005,\n",
       " 3.362000000000005,\n",
       " 3.4840000000000004,\n",
       " 3.362000000000005,\n",
       " 3.362000000000005,\n",
       " 3.362000000000005,\n",
       " 3.362000000000005,\n",
       " 3.362000000000005,\n",
       " 3.4840000000000004,\n",
       " 3.362000000000005,\n",
       " 3.362000000000005,\n",
       " 3.362000000000005,\n",
       " 3.369000000000005,\n",
       " 3.478,\n",
       " 3.362000000000005,\n",
       " 3.4840000000000004,\n",
       " 3.362000000000005,\n",
       " 3.362000000000005,\n",
       " 3.362000000000005,\n",
       " 3.362000000000005,\n",
       " 3.4840000000000004,\n",
       " 3.4840000000000004,\n",
       " 3.478,\n",
       " 3.362000000000005,\n",
       " 3.362000000000005,\n",
       " 3.362000000000005,\n",
       " 3.478,\n",
       " 3.4840000000000004,\n",
       " 3.362000000000005,\n",
       " 3.362000000000005,\n",
       " 3.4840000000000004,\n",
       " 3.369000000000005,\n",
       " 3.4840000000000004,\n",
       " 3.362000000000005,\n",
       " 3.4840000000000004,\n",
       " 3.4840000000000004,\n",
       " 3.4840000000000004,\n",
       " 3.362000000000005,\n",
       " 3.362000000000005,\n",
       " 3.362000000000005,\n",
       " 3.362000000000005,\n",
       " 3.362000000000005,\n",
       " 3.362000000000005,\n",
       " 3.4840000000000004,\n",
       " 3.4840000000000004,\n",
       " 3.3640000000000048,\n",
       " 3.362000000000005,\n",
       " 3.4840000000000004,\n",
       " 3.4840000000000004,\n",
       " 3.4840000000000004,\n",
       " 3.362000000000005,\n",
       " 3.4840000000000004,\n",
       " 3.4840000000000004,\n",
       " 3.362000000000005,\n",
       " 3.362000000000005,\n",
       " 3.362000000000005,\n",
       " 3.48,\n",
       " 3.362000000000005,\n",
       " 3.362000000000005,\n",
       " 3.362000000000005,\n",
       " 3.369000000000005,\n",
       " 3.4840000000000004,\n",
       " 3.4840000000000004,\n",
       " 3.4840000000000004,\n",
       " 3.4840000000000004,\n",
       " 3.4840000000000004,\n",
       " 3.4840000000000004,\n",
       " 3.4840000000000004,\n",
       " 3.362000000000005,\n",
       " 3.362000000000005,\n",
       " 3.4840000000000004,\n",
       " 3.4840000000000004,\n",
       " 3.4840000000000004,\n",
       " 3.4840000000000004,\n",
       " 3.4840000000000004,\n",
       " 3.4840000000000004,\n",
       " 3.4840000000000004,\n",
       " 3.4840000000000004,\n",
       " 3.4840000000000004,\n",
       " 3.4840000000000004,\n",
       " 3.4840000000000004,\n",
       " 3.362000000000005,\n",
       " 3.3640000000000057,\n",
       " 3.362000000000005,\n",
       " 3.4840000000000004,\n",
       " 3.362000000000005,\n",
       " 3.362000000000005,\n",
       " 3.362000000000005,\n",
       " 3.4760000000000004,\n",
       " 3.374000000000005,\n",
       " 3.478,\n",
       " 3.4750000000000005,\n",
       " 3.478,\n",
       " 3.369000000000005,\n",
       " 3.3640000000000048,\n",
       " 3.362000000000005,\n",
       " 3.369000000000005,\n",
       " 3.362000000000005,\n",
       " 3.369000000000005,\n",
       " 3.4840000000000004,\n",
       " 3.478,\n",
       " 3.478,\n",
       " 3.478,\n",
       " 3.3640000000000057,\n",
       " 3.4840000000000004,\n",
       " 3.369000000000005,\n",
       " 3.48,\n",
       " 3.362000000000005,\n",
       " 3.478,\n",
       " 3.4840000000000004,\n",
       " 3.4840000000000004,\n",
       " 3.362000000000005,\n",
       " 3.362000000000005,\n",
       " 3.362000000000005,\n",
       " 3.4840000000000004,\n",
       " 3.478,\n",
       " 3.362000000000005,\n",
       " 3.362000000000005,\n",
       " 3.362000000000005,\n",
       " 3.362000000000005,\n",
       " 3.362000000000005,\n",
       " 3.48,\n",
       " 3.362000000000005,\n",
       " 3.478,\n",
       " 3.478,\n",
       " 3.362000000000005,\n",
       " 3.362000000000005,\n",
       " 3.362000000000005,\n",
       " 3.362000000000005,\n",
       " 3.362000000000005,\n",
       " 3.362000000000005,\n",
       " 3.362000000000005,\n",
       " 3.369000000000005,\n",
       " 3.4840000000000004,\n",
       " 3.478,\n",
       " 3.4840000000000004,\n",
       " 3.4840000000000004,\n",
       " 3.362000000000005,\n",
       " 3.48,\n",
       " 3.362000000000005,\n",
       " 3.4840000000000004,\n",
       " 3.4840000000000004,\n",
       " 3.4840000000000004,\n",
       " 3.362000000000005,\n",
       " 3.4840000000000004,\n",
       " 3.4840000000000004,\n",
       " 3.4840000000000004,\n",
       " 3.4840000000000004,\n",
       " 3.478,\n",
       " 3.362000000000005,\n",
       " 3.4840000000000004,\n",
       " 3.362000000000005,\n",
       " 3.362000000000005,\n",
       " 3.4840000000000004,\n",
       " 3.4840000000000004,\n",
       " 3.4840000000000004,\n",
       " 3.362000000000005,\n",
       " 3.362000000000005,\n",
       " 3.4840000000000004,\n",
       " 3.4840000000000004,\n",
       " 3.362000000000005,\n",
       " 3.362000000000005,\n",
       " 3.4819999999999953,\n",
       " 3.4800000000000004,\n",
       " 3.4840000000000004,\n",
       " 3.4840000000000004,\n",
       " 3.4840000000000004,\n",
       " 3.4840000000000004,\n",
       " 3.478,\n",
       " 3.4929999999999954,\n",
       " 3.4929999999999954,\n",
       " 3.4010000000000042,\n",
       " 3.3840000000000043,\n",
       " 3.4800000000000004,\n",
       " 3.486999999999995,\n",
       " 3.474,\n",
       " 3.486999999999995,\n",
       " 3.4929999999999954,\n",
       " 3.486999999999995,\n",
       " 3.4929999999999954,\n",
       " 3.4929999999999954,\n",
       " 3.486999999999995,\n",
       " 3.474,\n",
       " 3.4800000000000004,\n",
       " 3.377000000000004,\n",
       " 3.377000000000004,\n",
       " 3.480999999999995,\n",
       " 3.377000000000004,\n",
       " 3.377000000000004,\n",
       " 3.377000000000004,\n",
       " 3.3760000000000048,\n",
       " 3.4760000000000004,\n",
       " 3.377000000000004,\n",
       " 3.4800000000000004,\n",
       " 3.4800000000000004,\n",
       " 3.4800000000000004,\n",
       " 3.379000000000005,\n",
       " 3.4800000000000004,\n",
       " 3.480999999999995,\n",
       " 3.377000000000004,\n",
       " 3.4800000000000004,\n",
       " 3.4800000000000004,\n",
       " 3.4800000000000004,\n",
       " 3.377000000000004,\n",
       " 3.4760000000000004,\n",
       " 3.4879999999999955,\n",
       " 3.474,\n",
       " 3.377000000000004,\n",
       " 3.4879999999999955,\n",
       " 3.377000000000004,\n",
       " 3.4800000000000004,\n",
       " 3.377000000000004,\n",
       " 3.377000000000004,\n",
       " 3.377000000000004,\n",
       " 3.4800000000000004,\n",
       " 3.4800000000000004,\n",
       " 3.377000000000004,\n",
       " 3.377000000000004,\n",
       " 3.4800000000000004,\n",
       " 3.3890000000000042,\n",
       " 3.3790000000000044,\n",
       " 3.377000000000004,\n",
       " 3.377000000000004,\n",
       " 3.377000000000004,\n",
       " 3.379000000000005,\n",
       " 3.377000000000004,\n",
       " 3.379000000000005,\n",
       " 3.379000000000005,\n",
       " 3.379000000000005,\n",
       " 3.377000000000004,\n",
       " 3.3860000000000046,\n",
       " 3.3890000000000042,\n",
       " 3.379000000000005,\n",
       " 3.379000000000005,\n",
       " 3.3890000000000042,\n",
       " 3.3790000000000044,\n",
       " 3.377000000000004,\n",
       " 3.377000000000004,\n",
       " 3.3810000000000047,\n",
       " 3.377000000000004,\n",
       " 3.3840000000000043,\n",
       " 3.3860000000000046,\n",
       " 3.3790000000000044,\n",
       " 3.3840000000000043,\n",
       " 3.377000000000004,\n",
       " 3.377000000000004,\n",
       " 3.3890000000000042,\n",
       " 3.377000000000004,\n",
       " 3.377000000000004,\n",
       " 3.3790000000000044,\n",
       " 3.377000000000004,\n",
       " 3.3840000000000043,\n",
       " 3.3840000000000043,\n",
       " 3.3840000000000043,\n",
       " 3.379000000000005,\n",
       " 3.377000000000004,\n",
       " 3.391000000000005,\n",
       " 3.377000000000004,\n",
       " 3.379000000000005,\n",
       " 3.379000000000005,\n",
       " 3.4879999999999955,\n",
       " 3.377000000000004,\n",
       " 3.377000000000004,\n",
       " 3.3840000000000043,\n",
       " 3.379000000000005,\n",
       " 3.377000000000004,\n",
       " 3.3760000000000048,\n",
       " 3.377000000000004,\n",
       " 3.377000000000004,\n",
       " 3.377000000000004,\n",
       " 3.377000000000004,\n",
       " 3.377000000000004,\n",
       " 3.379000000000005,\n",
       " 3.377000000000004,\n",
       " 3.379000000000005,\n",
       " 3.379000000000005,\n",
       " 3.379000000000005,\n",
       " 3.377000000000004,\n",
       " 3.379000000000005,\n",
       " 3.377000000000004,\n",
       " 3.377000000000004,\n",
       " 3.379000000000005,\n",
       " 3.379000000000005,\n",
       " 3.377000000000004,\n",
       " 3.379000000000005,\n",
       " 3.3890000000000042,\n",
       " 3.377000000000004,\n",
       " 3.3840000000000043,\n",
       " 3.4879999999999955,\n",
       " 3.377000000000004,\n",
       " 3.377000000000004,\n",
       " 3.3990000000000045,\n",
       " 3.377000000000004,\n",
       " 3.4879999999999955,\n",
       " 3.3760000000000048,\n",
       " 3.377000000000004,\n",
       " 3.379000000000005,\n",
       " 3.377000000000004,\n",
       " 3.3810000000000047,\n",
       " 3.377000000000004,\n",
       " 3.377000000000004,\n",
       " 3.3790000000000044,\n",
       " 3.4879999999999955,\n",
       " 3.379000000000005,\n",
       " 3.377000000000004,\n",
       " 3.3840000000000043,\n",
       " 3.377000000000004,\n",
       " 3.4879999999999955,\n",
       " 3.377000000000004,\n",
       " 3.377000000000004,\n",
       " 3.3840000000000043,\n",
       " 3.379000000000005,\n",
       " 3.377000000000004,\n",
       " 3.377000000000004,\n",
       " 3.377000000000004,\n",
       " 3.377000000000004,\n",
       " 3.377000000000004,\n",
       " 3.3790000000000044,\n",
       " 3.3840000000000043,\n",
       " 3.377000000000004,\n",
       " 3.377000000000004,\n",
       " 3.377000000000004,\n",
       " 3.377000000000004,\n",
       " 3.379000000000005,\n",
       " 3.377000000000004,\n",
       " 3.377000000000004,\n",
       " 3.3890000000000042,\n",
       " 3.3790000000000044,\n",
       " 3.377000000000004,\n",
       " 3.379000000000005,\n",
       " 3.377000000000004,\n",
       " 3.377000000000004,\n",
       " 3.4879999999999955,\n",
       " 3.4879999999999955,\n",
       " 3.377000000000004,\n",
       " 3.377000000000004,\n",
       " 3.377000000000004,\n",
       " 3.3790000000000044,\n",
       " 3.379000000000005,\n",
       " 3.377000000000004,\n",
       " 3.377000000000004,\n",
       " 3.4879999999999955,\n",
       " 3.379000000000005,\n",
       " 3.377000000000004,\n",
       " 3.4879999999999955,\n",
       " 3.377000000000004,\n",
       " 3.377000000000004,\n",
       " 3.3790000000000044,\n",
       " 3.379000000000005,\n",
       " 3.379000000000005,\n",
       " 3.377000000000004,\n",
       " 3.3790000000000044,\n",
       " 3.377000000000004,\n",
       " 3.377000000000004,\n",
       " 3.379000000000005,\n",
       " 3.377000000000004,\n",
       " 3.377000000000004,\n",
       " 3.3790000000000044,\n",
       " 3.377000000000004,\n",
       " 3.3790000000000044,\n",
       " 3.3790000000000044,\n",
       " 3.4879999999999955,\n",
       " 3.377000000000004,\n",
       " 3.377000000000004,\n",
       " 3.379000000000005,\n",
       " 3.377000000000004,\n",
       " 3.377000000000004,\n",
       " 3.377000000000004,\n",
       " 3.4879999999999955,\n",
       " 3.379000000000005,\n",
       " 3.3840000000000043,\n",
       " 3.377000000000004,\n",
       " 3.379000000000005,\n",
       " 3.4879999999999955,\n",
       " 3.377000000000004,\n",
       " 3.3790000000000044,\n",
       " 3.377000000000004,\n",
       " 3.379000000000005,\n",
       " 3.3840000000000043,\n",
       " 3.379000000000005,\n",
       " 3.377000000000004,\n",
       " 3.377000000000004,\n",
       " 3.379000000000005,\n",
       " 3.379000000000005,\n",
       " 3.377000000000004,\n",
       " 3.377000000000004,\n",
       " 3.379000000000005,\n",
       " 3.379000000000005,\n",
       " 3.3990000000000045,\n",
       " 3.377000000000004,\n",
       " 3.377000000000004,\n",
       " 3.377000000000004,\n",
       " 3.4879999999999955,\n",
       " 3.379000000000005,\n",
       " 3.379000000000005,\n",
       " 3.377000000000004,\n",
       " 3.377000000000004,\n",
       " 3.3890000000000042,\n",
       " 3.377000000000004,\n",
       " 3.377000000000004,\n",
       " 3.377000000000004,\n",
       " 3.377000000000004,\n",
       " 3.377000000000004,\n",
       " 3.3840000000000043,\n",
       " 3.377000000000004,\n",
       " 3.377000000000004,\n",
       " 3.377000000000004,\n",
       " 3.377000000000004,\n",
       " 3.377000000000004,\n",
       " 3.377000000000004,\n",
       " 3.377000000000004,\n",
       " 3.377000000000004,\n",
       " 3.377000000000004,\n",
       " 3.379000000000005,\n",
       " 3.379000000000005,\n",
       " 3.377000000000004,\n",
       " 3.3840000000000043,\n",
       " 3.379000000000005,\n",
       " 3.377000000000004,\n",
       " 3.377000000000004,\n",
       " 3.377000000000004,\n",
       " 3.4879999999999955,\n",
       " 3.379000000000005,\n",
       " 3.377000000000004,\n",
       " 3.3760000000000048,\n",
       " 3.377000000000004,\n",
       " 3.377000000000004,\n",
       " 3.377000000000004,\n",
       " 3.379000000000005,\n",
       " 3.4879999999999955,\n",
       " 3.377000000000004,\n",
       " 3.377000000000004,\n",
       " 3.377000000000004,\n",
       " 3.4879999999999955,\n",
       " 3.377000000000004,\n",
       " 3.377000000000004,\n",
       " 3.488999999999996,\n",
       " 3.377000000000004,\n",
       " 3.377000000000004,\n",
       " 3.3890000000000042,\n",
       " 3.377000000000004,\n",
       " 3.377000000000004,\n",
       " ...]"
      ]
     },
     "execution_count": 169,
     "metadata": {},
     "output_type": "execute_result"
    }
   ],
   "source": [
    "# approx prediction for new restaurants, this is just an example as there are no votes and it is one of the major feature\n",
    "exreg.predict(minmax(X)).tolist()"
   ]
  },
  {
   "cell_type": "code",
   "execution_count": 168,
   "metadata": {},
   "outputs": [
    {
     "data": {
      "text/plain": [
       "count    41237.000000\n",
       "mean         3.421284\n",
       "std          0.054247\n",
       "min          3.360000\n",
       "25%          3.377000\n",
       "50%          3.379000\n",
       "75%          3.481000\n",
       "max          3.497000\n",
       "dtype: float64"
      ]
     },
     "execution_count": 168,
     "metadata": {},
     "output_type": "execute_result"
    }
   ],
   "source": [
    "pd.Series(exreg.predict(minmax(X))).describe()"
   ]
  }
 ],
 "metadata": {
  "kernelspec": {
   "display_name": "Python 3",
   "language": "python",
   "name": "python3"
  },
  "language_info": {
   "codemirror_mode": {
    "name": "ipython",
    "version": 3
   },
   "file_extension": ".py",
   "mimetype": "text/x-python",
   "name": "python",
   "nbconvert_exporter": "python",
   "pygments_lexer": "ipython3",
   "version": "3.7.6"
  }
 },
 "nbformat": 4,
 "nbformat_minor": 4
}
